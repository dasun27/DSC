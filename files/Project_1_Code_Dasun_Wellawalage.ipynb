{
 "cells": [
  {
   "cell_type": "markdown",
   "metadata": {},
   "source": [
    "### Importing Libraries"
   ]
  },
  {
   "cell_type": "code",
   "execution_count": 220,
   "metadata": {},
   "outputs": [],
   "source": [
    "import pandas as pd\n",
    "import matplotlib.pyplot as plt\n",
    "%matplotlib inline\n",
    "import seaborn as sns\n",
    "import os\n",
    "import numpy as np"
   ]
  },
  {
   "cell_type": "markdown",
   "metadata": {},
   "source": [
    "### Loading Data"
   ]
  },
  {
   "cell_type": "code",
   "execution_count": 95,
   "metadata": {},
   "outputs": [
    {
     "data": {
      "text/html": [
       "<div>\n",
       "<style scoped>\n",
       "    .dataframe tbody tr th:only-of-type {\n",
       "        vertical-align: middle;\n",
       "    }\n",
       "\n",
       "    .dataframe tbody tr th {\n",
       "        vertical-align: top;\n",
       "    }\n",
       "\n",
       "    .dataframe thead th {\n",
       "        text-align: right;\n",
       "    }\n",
       "</style>\n",
       "<table border=\"1\" class=\"dataframe\">\n",
       "  <thead>\n",
       "    <tr style=\"text-align: right;\">\n",
       "      <th></th>\n",
       "      <th>customerID</th>\n",
       "      <th>gender</th>\n",
       "      <th>SeniorCitizen</th>\n",
       "      <th>Partner</th>\n",
       "      <th>Dependents</th>\n",
       "      <th>tenure</th>\n",
       "      <th>PhoneService</th>\n",
       "      <th>MultipleLines</th>\n",
       "      <th>InternetService</th>\n",
       "      <th>OnlineSecurity</th>\n",
       "      <th>...</th>\n",
       "      <th>DeviceProtection</th>\n",
       "      <th>TechSupport</th>\n",
       "      <th>StreamingTV</th>\n",
       "      <th>StreamingMovies</th>\n",
       "      <th>Contract</th>\n",
       "      <th>PaperlessBilling</th>\n",
       "      <th>PaymentMethod</th>\n",
       "      <th>MonthlyCharges</th>\n",
       "      <th>TotalCharges</th>\n",
       "      <th>Churn</th>\n",
       "    </tr>\n",
       "  </thead>\n",
       "  <tbody>\n",
       "    <tr>\n",
       "      <th>0</th>\n",
       "      <td>7590-VHVEG</td>\n",
       "      <td>Female</td>\n",
       "      <td>0</td>\n",
       "      <td>Yes</td>\n",
       "      <td>No</td>\n",
       "      <td>1</td>\n",
       "      <td>No</td>\n",
       "      <td>No phone service</td>\n",
       "      <td>DSL</td>\n",
       "      <td>No</td>\n",
       "      <td>...</td>\n",
       "      <td>No</td>\n",
       "      <td>No</td>\n",
       "      <td>No</td>\n",
       "      <td>No</td>\n",
       "      <td>Month-to-month</td>\n",
       "      <td>Yes</td>\n",
       "      <td>Electronic check</td>\n",
       "      <td>29.85</td>\n",
       "      <td>29.85</td>\n",
       "      <td>No</td>\n",
       "    </tr>\n",
       "    <tr>\n",
       "      <th>1</th>\n",
       "      <td>5575-GNVDE</td>\n",
       "      <td>Male</td>\n",
       "      <td>0</td>\n",
       "      <td>No</td>\n",
       "      <td>No</td>\n",
       "      <td>34</td>\n",
       "      <td>Yes</td>\n",
       "      <td>No</td>\n",
       "      <td>DSL</td>\n",
       "      <td>Yes</td>\n",
       "      <td>...</td>\n",
       "      <td>Yes</td>\n",
       "      <td>No</td>\n",
       "      <td>No</td>\n",
       "      <td>No</td>\n",
       "      <td>One year</td>\n",
       "      <td>No</td>\n",
       "      <td>Mailed check</td>\n",
       "      <td>56.95</td>\n",
       "      <td>1889.5</td>\n",
       "      <td>No</td>\n",
       "    </tr>\n",
       "    <tr>\n",
       "      <th>2</th>\n",
       "      <td>3668-QPYBK</td>\n",
       "      <td>Male</td>\n",
       "      <td>0</td>\n",
       "      <td>No</td>\n",
       "      <td>No</td>\n",
       "      <td>2</td>\n",
       "      <td>Yes</td>\n",
       "      <td>No</td>\n",
       "      <td>DSL</td>\n",
       "      <td>Yes</td>\n",
       "      <td>...</td>\n",
       "      <td>No</td>\n",
       "      <td>No</td>\n",
       "      <td>No</td>\n",
       "      <td>No</td>\n",
       "      <td>Month-to-month</td>\n",
       "      <td>Yes</td>\n",
       "      <td>Mailed check</td>\n",
       "      <td>53.85</td>\n",
       "      <td>108.15</td>\n",
       "      <td>Yes</td>\n",
       "    </tr>\n",
       "    <tr>\n",
       "      <th>3</th>\n",
       "      <td>7795-CFOCW</td>\n",
       "      <td>Male</td>\n",
       "      <td>0</td>\n",
       "      <td>No</td>\n",
       "      <td>No</td>\n",
       "      <td>45</td>\n",
       "      <td>No</td>\n",
       "      <td>No phone service</td>\n",
       "      <td>DSL</td>\n",
       "      <td>Yes</td>\n",
       "      <td>...</td>\n",
       "      <td>Yes</td>\n",
       "      <td>Yes</td>\n",
       "      <td>No</td>\n",
       "      <td>No</td>\n",
       "      <td>One year</td>\n",
       "      <td>No</td>\n",
       "      <td>Bank transfer (automatic)</td>\n",
       "      <td>42.30</td>\n",
       "      <td>1840.75</td>\n",
       "      <td>No</td>\n",
       "    </tr>\n",
       "    <tr>\n",
       "      <th>4</th>\n",
       "      <td>9237-HQITU</td>\n",
       "      <td>Female</td>\n",
       "      <td>0</td>\n",
       "      <td>No</td>\n",
       "      <td>No</td>\n",
       "      <td>2</td>\n",
       "      <td>Yes</td>\n",
       "      <td>No</td>\n",
       "      <td>Fiber optic</td>\n",
       "      <td>No</td>\n",
       "      <td>...</td>\n",
       "      <td>No</td>\n",
       "      <td>No</td>\n",
       "      <td>No</td>\n",
       "      <td>No</td>\n",
       "      <td>Month-to-month</td>\n",
       "      <td>Yes</td>\n",
       "      <td>Electronic check</td>\n",
       "      <td>70.70</td>\n",
       "      <td>151.65</td>\n",
       "      <td>Yes</td>\n",
       "    </tr>\n",
       "  </tbody>\n",
       "</table>\n",
       "<p>5 rows × 21 columns</p>\n",
       "</div>"
      ],
      "text/plain": [
       "   customerID  gender  SeniorCitizen Partner Dependents  tenure PhoneService  \\\n",
       "0  7590-VHVEG  Female              0     Yes         No       1           No   \n",
       "1  5575-GNVDE    Male              0      No         No      34          Yes   \n",
       "2  3668-QPYBK    Male              0      No         No       2          Yes   \n",
       "3  7795-CFOCW    Male              0      No         No      45           No   \n",
       "4  9237-HQITU  Female              0      No         No       2          Yes   \n",
       "\n",
       "      MultipleLines InternetService OnlineSecurity  ... DeviceProtection  \\\n",
       "0  No phone service             DSL             No  ...               No   \n",
       "1                No             DSL            Yes  ...              Yes   \n",
       "2                No             DSL            Yes  ...               No   \n",
       "3  No phone service             DSL            Yes  ...              Yes   \n",
       "4                No     Fiber optic             No  ...               No   \n",
       "\n",
       "  TechSupport StreamingTV StreamingMovies        Contract PaperlessBilling  \\\n",
       "0          No          No              No  Month-to-month              Yes   \n",
       "1          No          No              No        One year               No   \n",
       "2          No          No              No  Month-to-month              Yes   \n",
       "3         Yes          No              No        One year               No   \n",
       "4          No          No              No  Month-to-month              Yes   \n",
       "\n",
       "               PaymentMethod MonthlyCharges  TotalCharges Churn  \n",
       "0           Electronic check          29.85         29.85    No  \n",
       "1               Mailed check          56.95        1889.5    No  \n",
       "2               Mailed check          53.85        108.15   Yes  \n",
       "3  Bank transfer (automatic)          42.30       1840.75    No  \n",
       "4           Electronic check          70.70        151.65   Yes  \n",
       "\n",
       "[5 rows x 21 columns]"
      ]
     },
     "execution_count": 95,
     "metadata": {},
     "output_type": "execute_result"
    }
   ],
   "source": [
    "data = pd.read_csv('datasets_13996_18858_WA_Fn-UseC_-Telco-Customer-Churn.csv')\n",
    "data.head()"
   ]
  },
  {
   "cell_type": "markdown",
   "metadata": {},
   "source": [
    "### Exploring Data"
   ]
  },
  {
   "cell_type": "code",
   "execution_count": 96,
   "metadata": {},
   "outputs": [
    {
     "data": {
      "text/plain": [
       "(7043, 21)"
      ]
     },
     "execution_count": 96,
     "metadata": {},
     "output_type": "execute_result"
    }
   ],
   "source": [
    "data.shape"
   ]
  },
  {
   "cell_type": "code",
   "execution_count": 97,
   "metadata": {},
   "outputs": [
    {
     "data": {
      "text/plain": [
       "customerID           object\n",
       "gender               object\n",
       "SeniorCitizen         int64\n",
       "Partner              object\n",
       "Dependents           object\n",
       "tenure                int64\n",
       "PhoneService         object\n",
       "MultipleLines        object\n",
       "InternetService      object\n",
       "OnlineSecurity       object\n",
       "OnlineBackup         object\n",
       "DeviceProtection     object\n",
       "TechSupport          object\n",
       "StreamingTV          object\n",
       "StreamingMovies      object\n",
       "Contract             object\n",
       "PaperlessBilling     object\n",
       "PaymentMethod        object\n",
       "MonthlyCharges      float64\n",
       "TotalCharges         object\n",
       "Churn                object\n",
       "dtype: object"
      ]
     },
     "execution_count": 97,
     "metadata": {},
     "output_type": "execute_result"
    }
   ],
   "source": [
    "data.dtypes"
   ]
  },
  {
   "cell_type": "code",
   "execution_count": 98,
   "metadata": {},
   "outputs": [
    {
     "data": {
      "text/html": [
       "<div>\n",
       "<style scoped>\n",
       "    .dataframe tbody tr th:only-of-type {\n",
       "        vertical-align: middle;\n",
       "    }\n",
       "\n",
       "    .dataframe tbody tr th {\n",
       "        vertical-align: top;\n",
       "    }\n",
       "\n",
       "    .dataframe thead th {\n",
       "        text-align: right;\n",
       "    }\n",
       "</style>\n",
       "<table border=\"1\" class=\"dataframe\">\n",
       "  <thead>\n",
       "    <tr style=\"text-align: right;\">\n",
       "      <th></th>\n",
       "      <th>SeniorCitizen</th>\n",
       "      <th>tenure</th>\n",
       "      <th>MonthlyCharges</th>\n",
       "    </tr>\n",
       "  </thead>\n",
       "  <tbody>\n",
       "    <tr>\n",
       "      <th>count</th>\n",
       "      <td>7043.000000</td>\n",
       "      <td>7043.000000</td>\n",
       "      <td>7043.000000</td>\n",
       "    </tr>\n",
       "    <tr>\n",
       "      <th>mean</th>\n",
       "      <td>0.162147</td>\n",
       "      <td>32.371149</td>\n",
       "      <td>64.761692</td>\n",
       "    </tr>\n",
       "    <tr>\n",
       "      <th>std</th>\n",
       "      <td>0.368612</td>\n",
       "      <td>24.559481</td>\n",
       "      <td>30.090047</td>\n",
       "    </tr>\n",
       "    <tr>\n",
       "      <th>min</th>\n",
       "      <td>0.000000</td>\n",
       "      <td>0.000000</td>\n",
       "      <td>18.250000</td>\n",
       "    </tr>\n",
       "    <tr>\n",
       "      <th>25%</th>\n",
       "      <td>0.000000</td>\n",
       "      <td>9.000000</td>\n",
       "      <td>35.500000</td>\n",
       "    </tr>\n",
       "    <tr>\n",
       "      <th>50%</th>\n",
       "      <td>0.000000</td>\n",
       "      <td>29.000000</td>\n",
       "      <td>70.350000</td>\n",
       "    </tr>\n",
       "    <tr>\n",
       "      <th>75%</th>\n",
       "      <td>0.000000</td>\n",
       "      <td>55.000000</td>\n",
       "      <td>89.850000</td>\n",
       "    </tr>\n",
       "    <tr>\n",
       "      <th>max</th>\n",
       "      <td>1.000000</td>\n",
       "      <td>72.000000</td>\n",
       "      <td>118.750000</td>\n",
       "    </tr>\n",
       "  </tbody>\n",
       "</table>\n",
       "</div>"
      ],
      "text/plain": [
       "       SeniorCitizen       tenure  MonthlyCharges\n",
       "count    7043.000000  7043.000000     7043.000000\n",
       "mean        0.162147    32.371149       64.761692\n",
       "std         0.368612    24.559481       30.090047\n",
       "min         0.000000     0.000000       18.250000\n",
       "25%         0.000000     9.000000       35.500000\n",
       "50%         0.000000    29.000000       70.350000\n",
       "75%         0.000000    55.000000       89.850000\n",
       "max         1.000000    72.000000      118.750000"
      ]
     },
     "execution_count": 98,
     "metadata": {},
     "output_type": "execute_result"
    }
   ],
   "source": [
    "data.describe()"
   ]
  },
  {
   "cell_type": "code",
   "execution_count": 99,
   "metadata": {},
   "outputs": [
    {
     "data": {
      "text/plain": [
       "customerID          0\n",
       "gender              0\n",
       "SeniorCitizen       0\n",
       "Partner             0\n",
       "Dependents          0\n",
       "tenure              0\n",
       "PhoneService        0\n",
       "MultipleLines       0\n",
       "InternetService     0\n",
       "OnlineSecurity      0\n",
       "OnlineBackup        0\n",
       "DeviceProtection    0\n",
       "TechSupport         0\n",
       "StreamingTV         0\n",
       "StreamingMovies     0\n",
       "Contract            0\n",
       "PaperlessBilling    0\n",
       "PaymentMethod       0\n",
       "MonthlyCharges      0\n",
       "TotalCharges        0\n",
       "Churn               0\n",
       "dtype: int64"
      ]
     },
     "execution_count": 99,
     "metadata": {},
     "output_type": "execute_result"
    }
   ],
   "source": [
    "data.isnull().sum()"
   ]
  },
  {
   "cell_type": "code",
   "execution_count": 100,
   "metadata": {},
   "outputs": [
    {
     "data": {
      "text/plain": [
       "<matplotlib.axes._subplots.AxesSubplot at 0x41f48670>"
      ]
     },
     "execution_count": 100,
     "metadata": {},
     "output_type": "execute_result"
    },
    {
     "data": {
      "image/png": "[encoded data removed]",
      "text/plain": [
       "<Figure size 432x288 with 1 Axes>"
      ]
     },
     "metadata": {
      "needs_background": "light"
     },
     "output_type": "display_data"
    }
   ],
   "source": [
    "data['MonthlyCharges'].plot.hist(alpha=0.5)"
   ]
  },
  {
   "cell_type": "code",
   "execution_count": 101,
   "metadata": {},
   "outputs": [
    {
     "data": {
      "text/plain": [
       "<matplotlib.axes._subplots.AxesSubplot at 0x42055f70>"
      ]
     },
     "execution_count": 101,
     "metadata": {},
     "output_type": "execute_result"
    },
    {
     "data": {
      "image/png": "[encoded data removed]",
      "text/plain": [
       "<Figure size 432x288 with 1 Axes>"
      ]
     },
     "metadata": {
      "needs_background": "light"
     },
     "output_type": "display_data"
    }
   ],
   "source": [
    "data['TotalCharges'] = pd.to_numeric(data['TotalCharges'], errors='coerce')\n",
    "data['TotalCharges'].plot.hist(alpha=0.5)"
   ]
  },
  {
   "cell_type": "markdown",
   "metadata": {},
   "source": [
    "### Cleanup"
   ]
  },
  {
   "cell_type": "code",
   "execution_count": 102,
   "metadata": {},
   "outputs": [],
   "source": [
    "# Converting 'SeniorCitizen' column to Yes/No to make it categorical\n",
    "data[\"SeniorCitizen\"] = data[\"SeniorCitizen\"].replace({1:\"Yes\",0:\"No\"})\n",
    "data[\"SeniorCitizen\"] = data[\"SeniorCitizen\"].astype(object)"
   ]
  },
  {
   "cell_type": "code",
   "execution_count": 103,
   "metadata": {},
   "outputs": [],
   "source": [
    "# Changing 'No internet service' value to 'No' in service columns as they mean the same\n",
    "services = ['OnlineSecurity', 'OnlineBackup', 'DeviceProtection', 'TechSupport', 'StreamingTV', 'StreamingMovies']\n",
    "\n",
    "for x in services:\n",
    "    data[x]  = data[x].replace({'No internet service' : 'No'})"
   ]
  },
  {
   "cell_type": "markdown",
   "metadata": {},
   "source": [
    "### Visualizing current data"
   ]
  },
  {
   "cell_type": "code",
   "execution_count": 144,
   "metadata": {},
   "outputs": [
    {
     "data": {
      "text/plain": [
       "(array([5174.,    0.,    0.,    0.,    0.,    0.,    0.,    0.,    0.,\n",
       "        1869.]),\n",
       " array([0. , 0.1, 0.2, 0.3, 0.4, 0.5, 0.6, 0.7, 0.8, 0.9, 1. ]),\n",
       " <a list of 10 Patch objects>)"
      ]
     },
     "execution_count": 144,
     "metadata": {},
     "output_type": "execute_result"
    },
    {
     "data": {
      "image/png": "[encoded data removed]",
      "text/plain": [
       "<Figure size 432x288 with 1 Axes>"
      ]
     },
     "metadata": {
      "needs_background": "light"
     },
     "output_type": "display_data"
    }
   ],
   "source": [
    "plt.hist(data[\"Churn\"])"
   ]
  },
  {
   "cell_type": "code",
   "execution_count": 155,
   "metadata": {},
   "outputs": [
    {
     "data": {
      "text/plain": [
       "(array([243., 176., 134.,  98.,  78.,  77.,  67.,  62.,  56.,  53.,  46.,\n",
       "         27.,  60.]),\n",
       " array([ 5, 10, 15, 20, 25, 30, 35, 40, 45, 50, 55, 60, 65, 70]),\n",
       " <a list of 13 Patch objects>)"
      ]
     },
     "execution_count": 155,
     "metadata": {},
     "output_type": "execute_result"
    },
    {
     "data": {
      "image/png": "[encoded data removed]",
      "text/plain": [
       "<Figure size 432x288 with 2 Axes>"
      ]
     },
     "metadata": {
      "needs_background": "light"
     },
     "output_type": "display_data"
    }
   ],
   "source": [
    "fig, axes = plt.subplots(nrows = 1, ncols = 2)\n",
    "binlist = [5, 10, 15, 20, 25 , 30, 35, 40, 45, 50, 55, 60, 65, 70]\n",
    "churned = data[data[\"Churn\"] == \"Yes\"]\n",
    "\n",
    "axes[0].hist(data[\"tenure\"], bins = binlist) # all records\n",
    "axes[1].hist(churned[\"tenure\"], bins = binlist) # churned customers"
   ]
  },
  {
   "cell_type": "markdown",
   "metadata": {},
   "source": [
    "#### As you can see above, the churning possibility is significantly less as the tenure increases"
   ]
  },
  {
   "cell_type": "code",
   "execution_count": 159,
   "metadata": {},
   "outputs": [
    {
     "data": {
      "text/plain": [
       "(array([150.,  55., 123., 151.,  51., 347., 356., 312., 276.,  48.]),\n",
       " array([ 18.85,  28.8 ,  38.75,  48.7 ,  58.65,  68.6 ,  78.55,  88.5 ,\n",
       "         98.45, 108.4 , 118.35]),\n",
       " <a list of 10 Patch objects>)"
      ]
     },
     "execution_count": 159,
     "metadata": {},
     "output_type": "execute_result"
    },
    {
     "data": {
      "image/png": "[encoded data removed]",
      "text/plain": [
       "<Figure size 432x288 with 2 Axes>"
      ]
     },
     "metadata": {
      "needs_background": "light"
     },
     "output_type": "display_data"
    }
   ],
   "source": [
    "fig, axes = plt.subplots(nrows = 1, ncols = 2)\n",
    "axes[0].hist(data[\"MonthlyCharges\"]) # all records\n",
    "axes[1].hist(churned[\"MonthlyCharges\"]) # churned customers"
   ]
  },
  {
   "cell_type": "markdown",
   "metadata": {},
   "source": [
    "#### This shows that most customers who churned were paying more than $75 per month"
   ]
  },
  {
   "cell_type": "code",
   "execution_count": 160,
   "metadata": {},
   "outputs": [
    {
     "data": {
      "text/plain": [
       "(array([1024.,  271.,  166.,  125.,   73.,   69.,   58.,   46.,   32.,\n",
       "           5.]),\n",
       " array([  18.85 ,  885.445, 1752.04 , 2618.635, 3485.23 , 4351.825,\n",
       "        5218.42 , 6085.015, 6951.61 , 7818.205, 8684.8  ]),\n",
       " <a list of 10 Patch objects>)"
      ]
     },
     "execution_count": 160,
     "metadata": {},
     "output_type": "execute_result"
    },
    {
     "data": {
      "image/png": "[encoded data removed]",
      "text/plain": [
       "<Figure size 432x288 with 2 Axes>"
      ]
     },
     "metadata": {
      "needs_background": "light"
     },
     "output_type": "display_data"
    }
   ],
   "source": [
    "fig, axes = plt.subplots(nrows = 1, ncols = 2)\n",
    "axes[0].hist(data[\"TotalCharges\"]) # all records\n",
    "axes[1].hist(churned[\"TotalCharges\"]) # churned customers"
   ]
  },
  {
   "cell_type": "markdown",
   "metadata": {},
   "source": [
    "#### As both the graphs show an identical distribution, the Total charges don't seem to have an impact on churning"
   ]
  },
  {
   "cell_type": "code",
   "execution_count": 175,
   "metadata": {},
   "outputs": [
    {
     "data": {
      "text/plain": [
       "([0, 1, 2, 3], <a list of 4 Text major ticklabel objects>)"
      ]
     },
     "execution_count": 175,
     "metadata": {},
     "output_type": "execute_result"
    },
    {
     "data": {
      "image/png": "[encoded data removed]",
      "text/plain": [
       "<Figure size 432x288 with 2 Axes>"
      ]
     },
     "metadata": {
      "needs_background": "light"
     },
     "output_type": "display_data"
    }
   ],
   "source": [
    "fig, axes = plt.subplots(nrows = 1, ncols = 2)\n",
    "axes[0].hist(churned[\"Contract\"])\n",
    "axes[1].hist(churned[\"PaymentMethod\"])\n",
    "plt.xticks(rotation=90)"
   ]
  },
  {
   "cell_type": "markdown",
   "metadata": {},
   "source": [
    "#### Most of the churned customers were on month-to-month contract and they used electronic check payment method."
   ]
  },
  {
   "cell_type": "code",
   "execution_count": 176,
   "metadata": {},
   "outputs": [
    {
     "data": {
      "text/plain": [
       "(array([ 459.,    0.,    0.,    0.,    0., 1297.,    0.,    0.,    0.,\n",
       "         113.]),\n",
       " array([0. , 0.2, 0.4, 0.6, 0.8, 1. , 1.2, 1.4, 1.6, 1.8, 2. ]),\n",
       " <a list of 10 Patch objects>)"
      ]
     },
     "execution_count": 176,
     "metadata": {},
     "output_type": "execute_result"
    },
    {
     "data": {
      "image/png": "[encoded data removed]",
      "text/plain": [
       "<Figure size 432x288 with 2 Axes>"
      ]
     },
     "metadata": {
      "needs_background": "light"
     },
     "output_type": "display_data"
    }
   ],
   "source": [
    "fig, axes = plt.subplots(nrows = 1, ncols = 2)\n",
    "axes[0].hist(data[\"InternetService\"]) # all records\n",
    "axes[1].hist(churned[\"InternetService\"]) # churned customers"
   ]
  },
  {
   "cell_type": "markdown",
   "metadata": {},
   "source": [
    "#### Most of the churned customers were using fiber optic services"
   ]
  },
  {
   "cell_type": "code",
   "execution_count": 181,
   "metadata": {},
   "outputs": [
    {
     "data": {
      "text/plain": [
       "(array([1393.,    0.,    0.,    0.,    0.,    0.,    0.,    0.,    0.,\n",
       "         476.]),\n",
       " array([0. , 0.1, 0.2, 0.3, 0.4, 0.5, 0.6, 0.7, 0.8, 0.9, 1. ]),\n",
       " <a list of 10 Patch objects>)"
      ]
     },
     "execution_count": 181,
     "metadata": {},
     "output_type": "execute_result"
    },
    {
     "data": {
      "image/png": "[encoded data removed]",
      "text/plain": [
       "<Figure size 432x288 with 4 Axes>"
      ]
     },
     "metadata": {
      "needs_background": "light"
     },
     "output_type": "display_data"
    }
   ],
   "source": [
    "fig, axes = plt.subplots(nrows = 2, ncols = 2)\n",
    "axes[0, 0].hist(churned[\"Partner\"])\n",
    "axes[0, 1].hist(churned[\"Dependents\"])\n",
    "axes[1, 0].hist(churned[\"gender\"])\n",
    "axes[1, 1].hist(churned[\"SeniorCitizen\"])"
   ]
  },
  {
   "cell_type": "markdown",
   "metadata": {},
   "source": [
    "#### Having dependents and being a senior citizen seem to have a big impact on churning while the gender and having a partner don't seem to contribute much"
   ]
  },
  {
   "cell_type": "markdown",
   "metadata": {},
   "source": [
    "### Creating a new column based on the number of additional online services"
   ]
  },
  {
   "cell_type": "code",
   "execution_count": 201,
   "metadata": {},
   "outputs": [],
   "source": [
    "svc = ['OnlineSecurity', 'OnlineBackup', 'DeviceProtection', 'TechSupport', 'StreamingTV', 'StreamingMovies']\n",
    "\n",
    "for x,row in data.iterrows():\n",
    "    if row['InternetService'] == \"No\":\n",
    "        data.at[x,'num_svc'] = 0\n",
    "    else:\n",
    "        n = 0\n",
    "        for y in svc:\n",
    "            if row[y] == \"Yes\":\n",
    "                n += 1\n",
    "        data.at[x,'num_svc'] = n\n",
    "    "
   ]
  },
  {
   "cell_type": "code",
   "execution_count": 205,
   "metadata": {},
   "outputs": [],
   "source": [
    "data['num_svc'] = data['num_svc'].astype(int)"
   ]
  },
  {
   "cell_type": "code",
   "execution_count": 207,
   "metadata": {},
   "outputs": [
    {
     "data": {
      "text/plain": [
       "(array([475., 442.,   0., 370.,   0., 306., 190.,   0.,  71.,  15.]),\n",
       " array([0. , 0.6, 1.2, 1.8, 2.4, 3. , 3.6, 4.2, 4.8, 5.4, 6. ]),\n",
       " <a list of 10 Patch objects>)"
      ]
     },
     "execution_count": 207,
     "metadata": {},
     "output_type": "execute_result"
    },
    {
     "data": {
      "image/png": "[encoded data removed]",
      "text/plain": [
       "<Figure size 432x288 with 2 Axes>"
      ]
     },
     "metadata": {
      "needs_background": "light"
     },
     "output_type": "display_data"
    }
   ],
   "source": [
    "churned = data[data[\"Churn\"] == \"Yes\"]\n",
    "fig, axes = plt.subplots(nrows = 1, ncols = 2)\n",
    "axes[0].hist(data[\"num_svc\"]) # all records\n",
    "axes[1].hist(churned[\"num_svc\"]) # churned customers"
   ]
  },
  {
   "cell_type": "markdown",
   "metadata": {},
   "source": [
    "#### According to the graphs, those customer who have 4 or more additional services are very less likely to churn"
   ]
  },
  {
   "cell_type": "markdown",
   "metadata": {},
   "source": [
    "#### Converting all columns to numeric values for correlation"
   ]
  },
  {
   "cell_type": "code",
   "execution_count": 211,
   "metadata": {},
   "outputs": [],
   "source": [
    "# Creating a new dataframe\n",
    "del datanum\n",
    "datanum = data.copy(deep=True)"
   ]
  },
  {
   "cell_type": "code",
   "execution_count": 212,
   "metadata": {},
   "outputs": [],
   "source": [
    "# converting 'gender'\n",
    "datanum[\"gender\"] = datanum[\"gender\"].replace({\"Male\": 0, \"Female\": 1})\n",
    "datanum[\"gender\"] = pd.to_numeric(datanum[\"gender\"], errors='coerce')"
   ]
  },
  {
   "cell_type": "code",
   "execution_count": 213,
   "metadata": {},
   "outputs": [],
   "source": [
    "cat_var = ['SeniorCitizen', 'Partner', 'Dependents', 'PhoneService', 'OnlineSecurity', 'OnlineBackup', 'DeviceProtection', \n",
    "           'TechSupport', 'StreamingTV', 'StreamingMovies', 'PaperlessBilling', 'Churn']\n",
    "\n",
    "for x in cat_var:\n",
    "    datanum[x] = datanum[x].replace({\"Yes\": 1, \"No\": 0})\n",
    "    datanum[x] = pd.to_numeric(datanum[x], errors='coerce')"
   ]
  },
  {
   "cell_type": "code",
   "execution_count": 214,
   "metadata": {},
   "outputs": [],
   "source": [
    "# converting 'MultipleLines'\n",
    "datanum[\"MultipleLines\"] = datanum[\"MultipleLines\"].replace({\"No\": 0, \"No phone service\": 1, \"Yes\": 2})\n",
    "datanum[\"MultipleLines\"] = pd.to_numeric(datanum[\"MultipleLines\"], errors='coerce')"
   ]
  },
  {
   "cell_type": "code",
   "execution_count": 215,
   "metadata": {},
   "outputs": [],
   "source": [
    "# converting 'InternetService'\n",
    "datanum[\"InternetService\"] = datanum[\"InternetService\"].replace({\"No\": 0, \"DSL\": 1, \"Fiber optic\": 2})\n",
    "datanum[\"InternetService\"] = pd.to_numeric(datanum[\"InternetService\"], errors='coerce')"
   ]
  },
  {
   "cell_type": "code",
   "execution_count": 216,
   "metadata": {},
   "outputs": [],
   "source": [
    "# converting 'Contract'\n",
    "datanum[\"Contract\"] = datanum[\"Contract\"].replace({\"Month-to-month\": 0, \"One year\": 1, \"Two year\": 2})\n",
    "datanum[\"Contract\"] = pd.to_numeric(datanum[\"Contract\"], errors='coerce')"
   ]
  },
  {
   "cell_type": "code",
   "execution_count": 217,
   "metadata": {},
   "outputs": [],
   "source": [
    "# converting 'PaymentMethod'\n",
    "datanum[\"PaymentMethod\"] = datanum[\"PaymentMethod\"].replace({\"Electronic check\": 0, \"Mailed check\": 1, \n",
    "                                                             \"Bank transfer (automatic)\": 2, \"Credit card (automatic)\": 3})\n",
    "datanum[\"PaymentMethod\"] = pd.to_numeric(datanum[\"PaymentMethod\"], errors='coerce')"
   ]
  },
  {
   "cell_type": "code",
   "execution_count": 219,
   "metadata": {},
   "outputs": [
    {
     "data": {
      "text/html": [
       "<div>\n",
       "<style scoped>\n",
       "    .dataframe tbody tr th:only-of-type {\n",
       "        vertical-align: middle;\n",
       "    }\n",
       "\n",
       "    .dataframe tbody tr th {\n",
       "        vertical-align: top;\n",
       "    }\n",
       "\n",
       "    .dataframe thead th {\n",
       "        text-align: right;\n",
       "    }\n",
       "</style>\n",
       "<table border=\"1\" class=\"dataframe\">\n",
       "  <thead>\n",
       "    <tr style=\"text-align: right;\">\n",
       "      <th></th>\n",
       "      <th>gender</th>\n",
       "      <th>SeniorCitizen</th>\n",
       "      <th>Partner</th>\n",
       "      <th>Dependents</th>\n",
       "      <th>tenure</th>\n",
       "      <th>PhoneService</th>\n",
       "      <th>MultipleLines</th>\n",
       "      <th>InternetService</th>\n",
       "      <th>OnlineSecurity</th>\n",
       "      <th>OnlineBackup</th>\n",
       "      <th>...</th>\n",
       "      <th>TechSupport</th>\n",
       "      <th>StreamingTV</th>\n",
       "      <th>StreamingMovies</th>\n",
       "      <th>Contract</th>\n",
       "      <th>PaperlessBilling</th>\n",
       "      <th>PaymentMethod</th>\n",
       "      <th>MonthlyCharges</th>\n",
       "      <th>TotalCharges</th>\n",
       "      <th>Churn</th>\n",
       "      <th>num_svc</th>\n",
       "    </tr>\n",
       "  </thead>\n",
       "  <tbody>\n",
       "    <tr>\n",
       "      <th>gender</th>\n",
       "      <td>1.000000</td>\n",
       "      <td>0.001874</td>\n",
       "      <td>0.001808</td>\n",
       "      <td>-0.010517</td>\n",
       "      <td>-0.005106</td>\n",
       "      <td>0.006488</td>\n",
       "      <td>0.006739</td>\n",
       "      <td>0.010380</td>\n",
       "      <td>0.017021</td>\n",
       "      <td>0.013773</td>\n",
       "      <td>...</td>\n",
       "      <td>0.009212</td>\n",
       "      <td>0.008393</td>\n",
       "      <td>0.010487</td>\n",
       "      <td>-0.000126</td>\n",
       "      <td>0.011754</td>\n",
       "      <td>0.005209</td>\n",
       "      <td>0.014569</td>\n",
       "      <td>-0.000048</td>\n",
       "      <td>0.008612</td>\n",
       "      <td>0.015489</td>\n",
       "    </tr>\n",
       "    <tr>\n",
       "      <th>SeniorCitizen</th>\n",
       "      <td>0.001874</td>\n",
       "      <td>1.000000</td>\n",
       "      <td>0.016479</td>\n",
       "      <td>-0.211185</td>\n",
       "      <td>0.016567</td>\n",
       "      <td>0.008576</td>\n",
       "      <td>0.146185</td>\n",
       "      <td>0.259390</td>\n",
       "      <td>-0.038653</td>\n",
       "      <td>0.066572</td>\n",
       "      <td>...</td>\n",
       "      <td>-0.060625</td>\n",
       "      <td>0.105378</td>\n",
       "      <td>0.120176</td>\n",
       "      <td>-0.142554</td>\n",
       "      <td>0.156530</td>\n",
       "      <td>-0.093704</td>\n",
       "      <td>0.220173</td>\n",
       "      <td>0.102411</td>\n",
       "      <td>0.150889</td>\n",
       "      <td>0.067493</td>\n",
       "    </tr>\n",
       "    <tr>\n",
       "      <th>Partner</th>\n",
       "      <td>0.001808</td>\n",
       "      <td>0.016479</td>\n",
       "      <td>1.000000</td>\n",
       "      <td>0.452676</td>\n",
       "      <td>0.379697</td>\n",
       "      <td>0.017706</td>\n",
       "      <td>0.142410</td>\n",
       "      <td>-0.000132</td>\n",
       "      <td>0.143106</td>\n",
       "      <td>0.141498</td>\n",
       "      <td>...</td>\n",
       "      <td>0.119999</td>\n",
       "      <td>0.124666</td>\n",
       "      <td>0.117412</td>\n",
       "      <td>0.294806</td>\n",
       "      <td>-0.014877</td>\n",
       "      <td>0.133115</td>\n",
       "      <td>0.096848</td>\n",
       "      <td>0.319072</td>\n",
       "      <td>-0.150448</td>\n",
       "      <td>0.204237</td>\n",
       "    </tr>\n",
       "    <tr>\n",
       "      <th>Dependents</th>\n",
       "      <td>-0.010517</td>\n",
       "      <td>-0.211185</td>\n",
       "      <td>0.452676</td>\n",
       "      <td>1.000000</td>\n",
       "      <td>0.159712</td>\n",
       "      <td>-0.001762</td>\n",
       "      <td>-0.024991</td>\n",
       "      <td>-0.179631</td>\n",
       "      <td>0.080972</td>\n",
       "      <td>0.023671</td>\n",
       "      <td>...</td>\n",
       "      <td>0.063268</td>\n",
       "      <td>-0.016558</td>\n",
       "      <td>-0.039741</td>\n",
       "      <td>0.243187</td>\n",
       "      <td>-0.111377</td>\n",
       "      <td>0.123844</td>\n",
       "      <td>-0.113890</td>\n",
       "      <td>0.064653</td>\n",
       "      <td>-0.164221</td>\n",
       "      <td>0.030200</td>\n",
       "    </tr>\n",
       "    <tr>\n",
       "      <th>tenure</th>\n",
       "      <td>-0.005106</td>\n",
       "      <td>0.016567</td>\n",
       "      <td>0.379697</td>\n",
       "      <td>0.159712</td>\n",
       "      <td>1.000000</td>\n",
       "      <td>0.008448</td>\n",
       "      <td>0.343032</td>\n",
       "      <td>0.033230</td>\n",
       "      <td>0.327203</td>\n",
       "      <td>0.360277</td>\n",
       "      <td>...</td>\n",
       "      <td>0.324221</td>\n",
       "      <td>0.279756</td>\n",
       "      <td>0.286111</td>\n",
       "      <td>0.671607</td>\n",
       "      <td>0.006152</td>\n",
       "      <td>0.340305</td>\n",
       "      <td>0.247900</td>\n",
       "      <td>0.825880</td>\n",
       "      <td>-0.352229</td>\n",
       "      <td>0.494263</td>\n",
       "    </tr>\n",
       "    <tr>\n",
       "      <th>PhoneService</th>\n",
       "      <td>0.006488</td>\n",
       "      <td>0.008576</td>\n",
       "      <td>0.017706</td>\n",
       "      <td>-0.001762</td>\n",
       "      <td>0.008448</td>\n",
       "      <td>1.000000</td>\n",
       "      <td>-0.020538</td>\n",
       "      <td>0.093720</td>\n",
       "      <td>-0.092893</td>\n",
       "      <td>-0.052312</td>\n",
       "      <td>...</td>\n",
       "      <td>-0.096340</td>\n",
       "      <td>-0.022574</td>\n",
       "      <td>-0.032959</td>\n",
       "      <td>0.002247</td>\n",
       "      <td>0.016505</td>\n",
       "      <td>-0.004070</td>\n",
       "      <td>0.247398</td>\n",
       "      <td>0.113008</td>\n",
       "      <td>0.011942</td>\n",
       "      <td>-0.092810</td>\n",
       "    </tr>\n",
       "    <tr>\n",
       "      <th>MultipleLines</th>\n",
       "      <td>0.006739</td>\n",
       "      <td>0.146185</td>\n",
       "      <td>0.142410</td>\n",
       "      <td>-0.024991</td>\n",
       "      <td>0.343032</td>\n",
       "      <td>-0.020538</td>\n",
       "      <td>1.000000</td>\n",
       "      <td>0.329715</td>\n",
       "      <td>0.131128</td>\n",
       "      <td>0.226910</td>\n",
       "      <td>...</td>\n",
       "      <td>0.134768</td>\n",
       "      <td>0.274823</td>\n",
       "      <td>0.279727</td>\n",
       "      <td>0.110842</td>\n",
       "      <td>0.165146</td>\n",
       "      <td>0.038603</td>\n",
       "      <td>0.433576</td>\n",
       "      <td>0.453202</td>\n",
       "      <td>0.038037</td>\n",
       "      <td>0.329273</td>\n",
       "    </tr>\n",
       "    <tr>\n",
       "      <th>InternetService</th>\n",
       "      <td>0.010380</td>\n",
       "      <td>0.259390</td>\n",
       "      <td>-0.000132</td>\n",
       "      <td>-0.179631</td>\n",
       "      <td>0.033230</td>\n",
       "      <td>0.093720</td>\n",
       "      <td>0.329715</td>\n",
       "      <td>1.000000</td>\n",
       "      <td>0.156799</td>\n",
       "      <td>0.307420</td>\n",
       "      <td>...</td>\n",
       "      <td>0.164833</td>\n",
       "      <td>0.429707</td>\n",
       "      <td>0.427264</td>\n",
       "      <td>-0.290189</td>\n",
       "      <td>0.378108</td>\n",
       "      <td>-0.178137</td>\n",
       "      <td>0.905491</td>\n",
       "      <td>0.428212</td>\n",
       "      <td>0.316846</td>\n",
       "      <td>0.464413</td>\n",
       "    </tr>\n",
       "    <tr>\n",
       "      <th>OnlineSecurity</th>\n",
       "      <td>0.017021</td>\n",
       "      <td>-0.038653</td>\n",
       "      <td>0.143106</td>\n",
       "      <td>0.080972</td>\n",
       "      <td>0.327203</td>\n",
       "      <td>-0.092893</td>\n",
       "      <td>0.131128</td>\n",
       "      <td>0.156799</td>\n",
       "      <td>1.000000</td>\n",
       "      <td>0.283832</td>\n",
       "      <td>...</td>\n",
       "      <td>0.354931</td>\n",
       "      <td>0.176207</td>\n",
       "      <td>0.187398</td>\n",
       "      <td>0.245530</td>\n",
       "      <td>-0.003636</td>\n",
       "      <td>0.163367</td>\n",
       "      <td>0.296594</td>\n",
       "      <td>0.412619</td>\n",
       "      <td>-0.171226</td>\n",
       "      <td>0.571606</td>\n",
       "    </tr>\n",
       "    <tr>\n",
       "      <th>OnlineBackup</th>\n",
       "      <td>0.013773</td>\n",
       "      <td>0.066572</td>\n",
       "      <td>0.141498</td>\n",
       "      <td>0.023671</td>\n",
       "      <td>0.360277</td>\n",
       "      <td>-0.052312</td>\n",
       "      <td>0.226910</td>\n",
       "      <td>0.307420</td>\n",
       "      <td>0.283832</td>\n",
       "      <td>1.000000</td>\n",
       "      <td>...</td>\n",
       "      <td>0.294233</td>\n",
       "      <td>0.282106</td>\n",
       "      <td>0.274501</td>\n",
       "      <td>0.155085</td>\n",
       "      <td>0.126735</td>\n",
       "      <td>0.096550</td>\n",
       "      <td>0.441780</td>\n",
       "      <td>0.510100</td>\n",
       "      <td>-0.082255</td>\n",
       "      <td>0.623741</td>\n",
       "    </tr>\n",
       "    <tr>\n",
       "      <th>DeviceProtection</th>\n",
       "      <td>0.002105</td>\n",
       "      <td>0.059428</td>\n",
       "      <td>0.153786</td>\n",
       "      <td>0.013963</td>\n",
       "      <td>0.360653</td>\n",
       "      <td>-0.071227</td>\n",
       "      <td>0.231661</td>\n",
       "      <td>0.313603</td>\n",
       "      <td>0.275438</td>\n",
       "      <td>0.303546</td>\n",
       "      <td>...</td>\n",
       "      <td>0.333313</td>\n",
       "      <td>0.390874</td>\n",
       "      <td>0.402111</td>\n",
       "      <td>0.219310</td>\n",
       "      <td>0.103797</td>\n",
       "      <td>0.111241</td>\n",
       "      <td>0.482692</td>\n",
       "      <td>0.522881</td>\n",
       "      <td>-0.066160</td>\n",
       "      <td>0.693457</td>\n",
       "    </tr>\n",
       "    <tr>\n",
       "      <th>TechSupport</th>\n",
       "      <td>0.009212</td>\n",
       "      <td>-0.060625</td>\n",
       "      <td>0.119999</td>\n",
       "      <td>0.063268</td>\n",
       "      <td>0.324221</td>\n",
       "      <td>-0.096340</td>\n",
       "      <td>0.134768</td>\n",
       "      <td>0.164833</td>\n",
       "      <td>0.354931</td>\n",
       "      <td>0.294233</td>\n",
       "      <td>...</td>\n",
       "      <td>1.000000</td>\n",
       "      <td>0.278070</td>\n",
       "      <td>0.279358</td>\n",
       "      <td>0.293691</td>\n",
       "      <td>0.037880</td>\n",
       "      <td>0.167701</td>\n",
       "      <td>0.338304</td>\n",
       "      <td>0.432868</td>\n",
       "      <td>-0.164674</td>\n",
       "      <td>0.640813</td>\n",
       "    </tr>\n",
       "    <tr>\n",
       "      <th>StreamingTV</th>\n",
       "      <td>0.008393</td>\n",
       "      <td>0.105378</td>\n",
       "      <td>0.124666</td>\n",
       "      <td>-0.016558</td>\n",
       "      <td>0.279756</td>\n",
       "      <td>-0.022574</td>\n",
       "      <td>0.274823</td>\n",
       "      <td>0.429707</td>\n",
       "      <td>0.176207</td>\n",
       "      <td>0.282106</td>\n",
       "      <td>...</td>\n",
       "      <td>0.278070</td>\n",
       "      <td>1.000000</td>\n",
       "      <td>0.533094</td>\n",
       "      <td>0.103944</td>\n",
       "      <td>0.223841</td>\n",
       "      <td>-0.013826</td>\n",
       "      <td>0.629603</td>\n",
       "      <td>0.515709</td>\n",
       "      <td>0.063228</td>\n",
       "      <td>0.688399</td>\n",
       "    </tr>\n",
       "    <tr>\n",
       "      <th>StreamingMovies</th>\n",
       "      <td>0.010487</td>\n",
       "      <td>0.120176</td>\n",
       "      <td>0.117412</td>\n",
       "      <td>-0.039741</td>\n",
       "      <td>0.286111</td>\n",
       "      <td>-0.032959</td>\n",
       "      <td>0.279727</td>\n",
       "      <td>0.427264</td>\n",
       "      <td>0.187398</td>\n",
       "      <td>0.274501</td>\n",
       "      <td>...</td>\n",
       "      <td>0.279358</td>\n",
       "      <td>0.533094</td>\n",
       "      <td>1.000000</td>\n",
       "      <td>0.107520</td>\n",
       "      <td>0.211716</td>\n",
       "      <td>-0.004390</td>\n",
       "      <td>0.627429</td>\n",
       "      <td>0.519867</td>\n",
       "      <td>0.061382</td>\n",
       "      <td>0.692596</td>\n",
       "    </tr>\n",
       "    <tr>\n",
       "      <th>Contract</th>\n",
       "      <td>-0.000126</td>\n",
       "      <td>-0.142554</td>\n",
       "      <td>0.294806</td>\n",
       "      <td>0.243187</td>\n",
       "      <td>0.671607</td>\n",
       "      <td>0.002247</td>\n",
       "      <td>0.110842</td>\n",
       "      <td>-0.290189</td>\n",
       "      <td>0.245530</td>\n",
       "      <td>0.155085</td>\n",
       "      <td>...</td>\n",
       "      <td>0.293691</td>\n",
       "      <td>0.103944</td>\n",
       "      <td>0.107520</td>\n",
       "      <td>1.000000</td>\n",
       "      <td>-0.176733</td>\n",
       "      <td>0.358913</td>\n",
       "      <td>-0.074195</td>\n",
       "      <td>0.450306</td>\n",
       "      <td>-0.396713</td>\n",
       "      <td>0.284251</td>\n",
       "    </tr>\n",
       "    <tr>\n",
       "      <th>PaperlessBilling</th>\n",
       "      <td>0.011754</td>\n",
       "      <td>0.156530</td>\n",
       "      <td>-0.014877</td>\n",
       "      <td>-0.111377</td>\n",
       "      <td>0.006152</td>\n",
       "      <td>0.016505</td>\n",
       "      <td>0.165146</td>\n",
       "      <td>0.378108</td>\n",
       "      <td>-0.003636</td>\n",
       "      <td>0.126735</td>\n",
       "      <td>...</td>\n",
       "      <td>0.037880</td>\n",
       "      <td>0.223841</td>\n",
       "      <td>0.211716</td>\n",
       "      <td>-0.176733</td>\n",
       "      <td>1.000000</td>\n",
       "      <td>-0.101480</td>\n",
       "      <td>0.352150</td>\n",
       "      <td>0.157830</td>\n",
       "      <td>0.191825</td>\n",
       "      <td>0.182481</td>\n",
       "    </tr>\n",
       "    <tr>\n",
       "      <th>PaymentMethod</th>\n",
       "      <td>0.005209</td>\n",
       "      <td>-0.093704</td>\n",
       "      <td>0.133115</td>\n",
       "      <td>0.123844</td>\n",
       "      <td>0.340305</td>\n",
       "      <td>-0.004070</td>\n",
       "      <td>0.038603</td>\n",
       "      <td>-0.178137</td>\n",
       "      <td>0.163367</td>\n",
       "      <td>0.096550</td>\n",
       "      <td>...</td>\n",
       "      <td>0.167701</td>\n",
       "      <td>-0.013826</td>\n",
       "      <td>-0.004390</td>\n",
       "      <td>0.358913</td>\n",
       "      <td>-0.101480</td>\n",
       "      <td>1.000000</td>\n",
       "      <td>-0.074353</td>\n",
       "      <td>0.222694</td>\n",
       "      <td>-0.262818</td>\n",
       "      <td>0.129824</td>\n",
       "    </tr>\n",
       "    <tr>\n",
       "      <th>MonthlyCharges</th>\n",
       "      <td>0.014569</td>\n",
       "      <td>0.220173</td>\n",
       "      <td>0.096848</td>\n",
       "      <td>-0.113890</td>\n",
       "      <td>0.247900</td>\n",
       "      <td>0.247398</td>\n",
       "      <td>0.433576</td>\n",
       "      <td>0.905491</td>\n",
       "      <td>0.296594</td>\n",
       "      <td>0.441780</td>\n",
       "      <td>...</td>\n",
       "      <td>0.338304</td>\n",
       "      <td>0.629603</td>\n",
       "      <td>0.627429</td>\n",
       "      <td>-0.074195</td>\n",
       "      <td>0.352150</td>\n",
       "      <td>-0.074353</td>\n",
       "      <td>1.000000</td>\n",
       "      <td>0.651065</td>\n",
       "      <td>0.193356</td>\n",
       "      <td>0.724706</td>\n",
       "    </tr>\n",
       "    <tr>\n",
       "      <th>TotalCharges</th>\n",
       "      <td>-0.000048</td>\n",
       "      <td>0.102411</td>\n",
       "      <td>0.319072</td>\n",
       "      <td>0.064653</td>\n",
       "      <td>0.825880</td>\n",
       "      <td>0.113008</td>\n",
       "      <td>0.453202</td>\n",
       "      <td>0.428212</td>\n",
       "      <td>0.412619</td>\n",
       "      <td>0.510100</td>\n",
       "      <td>...</td>\n",
       "      <td>0.432868</td>\n",
       "      <td>0.515709</td>\n",
       "      <td>0.519867</td>\n",
       "      <td>0.450306</td>\n",
       "      <td>0.157830</td>\n",
       "      <td>0.222694</td>\n",
       "      <td>0.651065</td>\n",
       "      <td>1.000000</td>\n",
       "      <td>-0.199484</td>\n",
       "      <td>0.746101</td>\n",
       "    </tr>\n",
       "    <tr>\n",
       "      <th>Churn</th>\n",
       "      <td>0.008612</td>\n",
       "      <td>0.150889</td>\n",
       "      <td>-0.150448</td>\n",
       "      <td>-0.164221</td>\n",
       "      <td>-0.352229</td>\n",
       "      <td>0.011942</td>\n",
       "      <td>0.038037</td>\n",
       "      <td>0.316846</td>\n",
       "      <td>-0.171226</td>\n",
       "      <td>-0.082255</td>\n",
       "      <td>...</td>\n",
       "      <td>-0.164674</td>\n",
       "      <td>0.063228</td>\n",
       "      <td>0.061382</td>\n",
       "      <td>-0.396713</td>\n",
       "      <td>0.191825</td>\n",
       "      <td>-0.262818</td>\n",
       "      <td>0.193356</td>\n",
       "      <td>-0.199484</td>\n",
       "      <td>1.000000</td>\n",
       "      <td>-0.087698</td>\n",
       "    </tr>\n",
       "    <tr>\n",
       "      <th>num_svc</th>\n",
       "      <td>0.015489</td>\n",
       "      <td>0.067493</td>\n",
       "      <td>0.204237</td>\n",
       "      <td>0.030200</td>\n",
       "      <td>0.494263</td>\n",
       "      <td>-0.092810</td>\n",
       "      <td>0.329273</td>\n",
       "      <td>0.464413</td>\n",
       "      <td>0.571606</td>\n",
       "      <td>0.623741</td>\n",
       "      <td>...</td>\n",
       "      <td>0.640813</td>\n",
       "      <td>0.688399</td>\n",
       "      <td>0.692596</td>\n",
       "      <td>0.284251</td>\n",
       "      <td>0.182481</td>\n",
       "      <td>0.129824</td>\n",
       "      <td>0.724706</td>\n",
       "      <td>0.746101</td>\n",
       "      <td>-0.087698</td>\n",
       "      <td>1.000000</td>\n",
       "    </tr>\n",
       "  </tbody>\n",
       "</table>\n",
       "<p>21 rows × 21 columns</p>\n",
       "</div>"
      ],
      "text/plain": [
       "                    gender  SeniorCitizen   Partner  Dependents    tenure  \\\n",
       "gender            1.000000       0.001874  0.001808   -0.010517 -0.005106   \n",
       "SeniorCitizen     0.001874       1.000000  0.016479   -0.211185  0.016567   \n",
       "Partner           0.001808       0.016479  1.000000    0.452676  0.379697   \n",
       "Dependents       -0.010517      -0.211185  0.452676    1.000000  0.159712   \n",
       "tenure           -0.005106       0.016567  0.379697    0.159712  1.000000   \n",
       "PhoneService      0.006488       0.008576  0.017706   -0.001762  0.008448   \n",
       "MultipleLines     0.006739       0.146185  0.142410   -0.024991  0.343032   \n",
       "InternetService   0.010380       0.259390 -0.000132   -0.179631  0.033230   \n",
       "OnlineSecurity    0.017021      -0.038653  0.143106    0.080972  0.327203   \n",
       "OnlineBackup      0.013773       0.066572  0.141498    0.023671  0.360277   \n",
       "DeviceProtection  0.002105       0.059428  0.153786    0.013963  0.360653   \n",
       "TechSupport       0.009212      -0.060625  0.119999    0.063268  0.324221   \n",
       "StreamingTV       0.008393       0.105378  0.124666   -0.016558  0.279756   \n",
       "StreamingMovies   0.010487       0.120176  0.117412   -0.039741  0.286111   \n",
       "Contract         -0.000126      -0.142554  0.294806    0.243187  0.671607   \n",
       "PaperlessBilling  0.011754       0.156530 -0.014877   -0.111377  0.006152   \n",
       "PaymentMethod     0.005209      -0.093704  0.133115    0.123844  0.340305   \n",
       "MonthlyCharges    0.014569       0.220173  0.096848   -0.113890  0.247900   \n",
       "TotalCharges     -0.000048       0.102411  0.319072    0.064653  0.825880   \n",
       "Churn             0.008612       0.150889 -0.150448   -0.164221 -0.352229   \n",
       "num_svc           0.015489       0.067493  0.204237    0.030200  0.494263   \n",
       "\n",
       "                  PhoneService  MultipleLines  InternetService  \\\n",
       "gender                0.006488       0.006739         0.010380   \n",
       "SeniorCitizen         0.008576       0.146185         0.259390   \n",
       "Partner               0.017706       0.142410        -0.000132   \n",
       "Dependents           -0.001762      -0.024991        -0.179631   \n",
       "tenure                0.008448       0.343032         0.033230   \n",
       "PhoneService          1.000000      -0.020538         0.093720   \n",
       "MultipleLines        -0.020538       1.000000         0.329715   \n",
       "InternetService       0.093720       0.329715         1.000000   \n",
       "OnlineSecurity       -0.092893       0.131128         0.156799   \n",
       "OnlineBackup         -0.052312       0.226910         0.307420   \n",
       "DeviceProtection     -0.071227       0.231661         0.313603   \n",
       "TechSupport          -0.096340       0.134768         0.164833   \n",
       "StreamingTV          -0.022574       0.274823         0.429707   \n",
       "StreamingMovies      -0.032959       0.279727         0.427264   \n",
       "Contract              0.002247       0.110842        -0.290189   \n",
       "PaperlessBilling      0.016505       0.165146         0.378108   \n",
       "PaymentMethod        -0.004070       0.038603        -0.178137   \n",
       "MonthlyCharges        0.247398       0.433576         0.905491   \n",
       "TotalCharges          0.113008       0.453202         0.428212   \n",
       "Churn                 0.011942       0.038037         0.316846   \n",
       "num_svc              -0.092810       0.329273         0.464413   \n",
       "\n",
       "                  OnlineSecurity  OnlineBackup  ...  TechSupport  StreamingTV  \\\n",
       "gender                  0.017021      0.013773  ...     0.009212     0.008393   \n",
       "SeniorCitizen          -0.038653      0.066572  ...    -0.060625     0.105378   \n",
       "Partner                 0.143106      0.141498  ...     0.119999     0.124666   \n",
       "Dependents              0.080972      0.023671  ...     0.063268    -0.016558   \n",
       "tenure                  0.327203      0.360277  ...     0.324221     0.279756   \n",
       "PhoneService           -0.092893     -0.052312  ...    -0.096340    -0.022574   \n",
       "MultipleLines           0.131128      0.226910  ...     0.134768     0.274823   \n",
       "InternetService         0.156799      0.307420  ...     0.164833     0.429707   \n",
       "OnlineSecurity          1.000000      0.283832  ...     0.354931     0.176207   \n",
       "OnlineBackup            0.283832      1.000000  ...     0.294233     0.282106   \n",
       "DeviceProtection        0.275438      0.303546  ...     0.333313     0.390874   \n",
       "TechSupport             0.354931      0.294233  ...     1.000000     0.278070   \n",
       "StreamingTV             0.176207      0.282106  ...     0.278070     1.000000   \n",
       "StreamingMovies         0.187398      0.274501  ...     0.279358     0.533094   \n",
       "Contract                0.245530      0.155085  ...     0.293691     0.103944   \n",
       "PaperlessBilling       -0.003636      0.126735  ...     0.037880     0.223841   \n",
       "PaymentMethod           0.163367      0.096550  ...     0.167701    -0.013826   \n",
       "MonthlyCharges          0.296594      0.441780  ...     0.338304     0.629603   \n",
       "TotalCharges            0.412619      0.510100  ...     0.432868     0.515709   \n",
       "Churn                  -0.171226     -0.082255  ...    -0.164674     0.063228   \n",
       "num_svc                 0.571606      0.623741  ...     0.640813     0.688399   \n",
       "\n",
       "                  StreamingMovies  Contract  PaperlessBilling  PaymentMethod  \\\n",
       "gender                   0.010487 -0.000126          0.011754       0.005209   \n",
       "SeniorCitizen            0.120176 -0.142554          0.156530      -0.093704   \n",
       "Partner                  0.117412  0.294806         -0.014877       0.133115   \n",
       "Dependents              -0.039741  0.243187         -0.111377       0.123844   \n",
       "tenure                   0.286111  0.671607          0.006152       0.340305   \n",
       "PhoneService            -0.032959  0.002247          0.016505      -0.004070   \n",
       "MultipleLines            0.279727  0.110842          0.165146       0.038603   \n",
       "InternetService          0.427264 -0.290189          0.378108      -0.178137   \n",
       "OnlineSecurity           0.187398  0.245530         -0.003636       0.163367   \n",
       "OnlineBackup             0.274501  0.155085          0.126735       0.096550   \n",
       "DeviceProtection         0.402111  0.219310          0.103797       0.111241   \n",
       "TechSupport              0.279358  0.293691          0.037880       0.167701   \n",
       "StreamingTV              0.533094  0.103944          0.223841      -0.013826   \n",
       "StreamingMovies          1.000000  0.107520          0.211716      -0.004390   \n",
       "Contract                 0.107520  1.000000         -0.176733       0.358913   \n",
       "PaperlessBilling         0.211716 -0.176733          1.000000      -0.101480   \n",
       "PaymentMethod           -0.004390  0.358913         -0.101480       1.000000   \n",
       "MonthlyCharges           0.627429 -0.074195          0.352150      -0.074353   \n",
       "TotalCharges             0.519867  0.450306          0.157830       0.222694   \n",
       "Churn                    0.061382 -0.396713          0.191825      -0.262818   \n",
       "num_svc                  0.692596  0.284251          0.182481       0.129824   \n",
       "\n",
       "                  MonthlyCharges  TotalCharges     Churn   num_svc  \n",
       "gender                  0.014569     -0.000048  0.008612  0.015489  \n",
       "SeniorCitizen           0.220173      0.102411  0.150889  0.067493  \n",
       "Partner                 0.096848      0.319072 -0.150448  0.204237  \n",
       "Dependents             -0.113890      0.064653 -0.164221  0.030200  \n",
       "tenure                  0.247900      0.825880 -0.352229  0.494263  \n",
       "PhoneService            0.247398      0.113008  0.011942 -0.092810  \n",
       "MultipleLines           0.433576      0.453202  0.038037  0.329273  \n",
       "InternetService         0.905491      0.428212  0.316846  0.464413  \n",
       "OnlineSecurity          0.296594      0.412619 -0.171226  0.571606  \n",
       "OnlineBackup            0.441780      0.510100 -0.082255  0.623741  \n",
       "DeviceProtection        0.482692      0.522881 -0.066160  0.693457  \n",
       "TechSupport             0.338304      0.432868 -0.164674  0.640813  \n",
       "StreamingTV             0.629603      0.515709  0.063228  0.688399  \n",
       "StreamingMovies         0.627429      0.519867  0.061382  0.692596  \n",
       "Contract               -0.074195      0.450306 -0.396713  0.284251  \n",
       "PaperlessBilling        0.352150      0.157830  0.191825  0.182481  \n",
       "PaymentMethod          -0.074353      0.222694 -0.262818  0.129824  \n",
       "MonthlyCharges          1.000000      0.651065  0.193356  0.724706  \n",
       "TotalCharges            0.651065      1.000000 -0.199484  0.746101  \n",
       "Churn                   0.193356     -0.199484  1.000000 -0.087698  \n",
       "num_svc                 0.724706      0.746101 -0.087698  1.000000  \n",
       "\n",
       "[21 rows x 21 columns]"
      ]
     },
     "execution_count": 219,
     "metadata": {},
     "output_type": "execute_result"
    }
   ],
   "source": [
    "datanum.corr()"
   ]
  },
  {
   "cell_type": "code",
   "execution_count": 222,
   "metadata": {},
   "outputs": [
    {
     "name": "stdout",
     "output_type": "stream",
     "text": [
      "Collecting plotly\n",
      "  Downloading plotly-4.10.0-py2.py3-none-any.whl (13.0 MB)\n",
      "Collecting retrying>=1.3.3\n",
      "  Downloading retrying-1.3.3.tar.gz (10 kB)\n",
      "Requirement already satisfied: six in c:\\users\\dasun\\appdata\\local\\programs\\python\\python38-32\\lib\\site-packages (from plotly) (1.14.0)\n",
      "Using legacy 'setup.py install' for retrying, since package 'wheel' is not installed.\n",
      "Installing collected packages: retrying, plotly\n",
      "    Running setup.py install for retrying: started\n",
      "    Running setup.py install for retrying: finished with status 'done'\n",
      "Successfully installed plotly-4.10.0 retrying-1.3.3\n"
     ]
    }
   ],
   "source": [
    "!pip install plotly"
   ]
  },
  {
   "cell_type": "code",
   "execution_count": 223,
   "metadata": {},
   "outputs": [
    {
     "data": {
      "text/html": [
       "        <script type=\"text/javascript\">\n",
       "        window.PlotlyConfig = {MathJaxConfig: 'local'};\n",
       "        if (window.MathJax) {MathJax.Hub.Config({SVG: {font: \"STIX-Web\"}});}\n",
       "        if (typeof require !== 'undefined') {\n",
       "        require.undef(\"plotly\");\n",
       "        requirejs.config({\n",
       "            paths: {\n",
       "                'plotly': ['https://cdn.plot.ly/plotly-latest.min']\n",
       "            }\n",
       "        });\n",
       "        require(['plotly'], function(Plotly) {\n",
       "            window._Plotly = Plotly;\n",
       "        });\n",
       "        }\n",
       "        </script>\n",
       "        "
      ]
     },
     "metadata": {},
     "output_type": "display_data"
    },
    {
     "data": {
      "application/vnd.plotly.v1+json": {
       "config": {
        "linkText": "Export to plot.ly",
        "plotlyServerURL": "https://plot.ly",
        "showLink": false
       },
       "data": [
        {
         "colorbar": {
          "title": {
           "side": "right",
           "text": "Pearson Correlation coefficient"
          }
         },
         "colorscale": [
          [
           0,
           "#440154"
          ],
          [
           0.1111111111111111,
           "#482878"
          ],
          [
           0.2222222222222222,
           "#3e4989"
          ],
          [
           0.3333333333333333,
           "#31688e"
          ],
          [
           0.4444444444444444,
           "#26828e"
          ],
          [
           0.5555555555555556,
           "#1f9e89"
          ],
          [
           0.6666666666666666,
           "#35b779"
          ],
          [
           0.7777777777777778,
           "#6ece58"
          ],
          [
           0.8888888888888888,
           "#b5de2b"
          ],
          [
           1,
           "#fde725"
          ]
         ],
         "type": "heatmap",
         "x": [
          "gender",
          "SeniorCitizen",
          "Partner",
          "Dependents",
          "tenure",
          "PhoneService",
          "MultipleLines",
          "InternetService",
          "OnlineSecurity",
          "OnlineBackup",
          "DeviceProtection",
          "TechSupport",
          "StreamingTV",
          "StreamingMovies",
          "Contract",
          "PaperlessBilling",
          "PaymentMethod",
          "MonthlyCharges",
          "TotalCharges",
          "Churn",
          "num_svc"
         ],
         "y": [
          "gender",
          "SeniorCitizen",
          "Partner",
          "Dependents",
          "tenure",
          "PhoneService",
          "MultipleLines",
          "InternetService",
          "OnlineSecurity",
          "OnlineBackup",
          "DeviceProtection",
          "TechSupport",
          "StreamingTV",
          "StreamingMovies",
          "Contract",
          "PaperlessBilling",
          "PaymentMethod",
          "MonthlyCharges",
          "TotalCharges",
          "Churn",
          "num_svc"
         ],
         "z": [
          [
           1,
           0.0018737116382603585,
           0.001808079661789092,
           -0.010516611922734686,
           -0.005106222619949674,
           0.006487672136207867,
           0.006738742697707163,
           0.010380217544535782,
           0.017020796813958704,
           0.01377318872900596,
           0.0021045826513881854,
           0.009211760356587549,
           0.008392549998355633,
           0.010487356300499686,
           -0.00012574765070902624,
           0.011753691221221238,
           0.0052092901512079395,
           0.014569323728666622,
           -4.783950839776907e-05,
           0.008612095078997463,
           0.015489123130442088
          ],
          [
           0.0018737116382603585,
           1,
           0.016478657597413158,
           -0.21118508849394904,
           0.016566877681808985,
           0.008576401079278321,
           0.14618487000752084,
           0.2593901005541285,
           -0.03865270449719614,
           0.06657213514513345,
           0.05942849428692483,
           -0.06062459069356379,
           0.1053776678428196,
           0.12017625118896011,
           -0.1425540803170259,
           0.15652955931114873,
           -0.0937039559322102,
           0.22017333857626245,
           0.1024106053953267,
           0.15088932817647296,
           0.06749314201370113
          ],
          [
           0.001808079661789092,
           0.016478657597413158,
           1,
           0.4526762829294439,
           0.3796974611682755,
           0.01770566322397003,
           0.1424104913867197,
           -0.00013188194892546406,
           0.14310622750263163,
           0.14149801947226973,
           0.15378643563076652,
           0.11999886976430937,
           0.1246658005648968,
           0.11741185447194351,
           0.2948062243608424,
           -0.014876622287889343,
           0.13311493765441657,
           0.09684793625646866,
           0.3190723632385728,
           -0.15044754495916807,
           0.20423687308352845
          ],
          [
           -0.010516611922734686,
           -0.21118508849394904,
           0.4526762829294439,
           1,
           0.15971233121691844,
           -0.0017616785446833952,
           -0.024990641743746923,
           -0.17963138138496387,
           0.0809716602324878,
           0.023671013010513185,
           0.01396253565379059,
           0.06326814139964838,
           -0.016557742951036198,
           -0.039740962058925404,
           0.24318747261125104,
           -0.11137722919362898,
           0.12384440937925496,
           -0.11389023002193653,
           0.06465324942177393,
           -0.16422140157973802,
           0.030199752297851712
          ],
          [
           -0.005106222619949674,
           0.016566877681808985,
           0.3796974611682755,
           0.15971233121691844,
           1,
           0.008448206732743343,
           0.3430318543029688,
           0.033230353066658024,
           0.32720277316825247,
           0.36027698898466876,
           0.36065286693248516,
           0.3242207719993829,
           0.2797560822359026,
           0.2861105877784818,
           0.6716065492281024,
           0.006152481598270628,
           0.3403049714796138,
           0.24789985628615183,
           0.8258804609332043,
           -0.35222867011307624,
           0.49426261059517107
          ],
          [
           0.006487672136207867,
           0.008576401079278321,
           0.01770566322397003,
           -0.0017616785446833952,
           0.008448206732743343,
           1,
           -0.020537831331319773,
           0.09372028339728178,
           -0.09289270011220115,
           -0.052312242947634764,
           -0.07122688671746603,
           -0.09633961826825559,
           -0.02257359179493519,
           -0.03295889236478296,
           0.00224737439721048,
           0.016504805732567716,
           -0.004069938951790368,
           0.24739796321411303,
           0.11300826095473841,
           0.011941980029002547,
           -0.09280980245976407
          ],
          [
           0.006738742697707163,
           0.14618487000752084,
           0.1424104913867197,
           -0.024990641743746923,
           0.3430318543029688,
           -0.020537831331319773,
           1,
           0.32971530858376896,
           0.13112807326119993,
           0.22690987720424485,
           0.23166133762028626,
           0.134767816963928,
           0.2748228623051831,
           0.2797269325658209,
           0.11084224470613079,
           0.16514589441868363,
           0.038602504191444266,
           0.43357600985755634,
           0.45320226616018033,
           0.038036885606188044,
           0.3292729730751124
          ],
          [
           0.010380217544535782,
           0.2593901005541285,
           -0.00013188194892546406,
           -0.17963138138496387,
           0.033230353066658024,
           0.09372028339728178,
           0.32971530858376896,
           1,
           0.1567987770451119,
           0.30742040706280854,
           0.31360318343419413,
           0.16483294674910953,
           0.42970677476006286,
           0.42726372533329987,
           -0.2901893585672705,
           0.3781081005394814,
           -0.17813672776869233,
           0.9054911208687038,
           0.42821204012007186,
           0.3168463429310228,
           0.4644131120967908
          ],
          [
           0.017020796813958704,
           -0.03865270449719614,
           0.14310622750263163,
           0.0809716602324878,
           0.32720277316825247,
           -0.09289270011220115,
           0.13112807326119993,
           0.1567987770451119,
           1,
           0.28383223353270814,
           0.2754379787437894,
           0.3549307078927568,
           0.17620730704239565,
           0.18739833092625272,
           0.24552959531614593,
           -0.0036358971484736916,
           0.16336680402716774,
           0.2965941920005669,
           0.4126187695071348,
           -0.17122629194853634,
           0.5716062138973134
          ],
          [
           0.01377318872900596,
           0.06657213514513345,
           0.14149801947226973,
           0.023671013010513185,
           0.36027698898466876,
           -0.052312242947634764,
           0.22690987720424485,
           0.30742040706280854,
           0.28383223353270814,
           1,
           0.3035462090113026,
           0.2942328784069205,
           0.2821064219717299,
           0.274501201960493,
           0.15508459027477167,
           0.12673537300695792,
           0.096549891556815,
           0.4417800943594705,
           0.5101002901454412,
           -0.08225486893813826,
           0.6237405374721071
          ],
          [
           0.0021045826513881854,
           0.05942849428692483,
           0.15378643563076652,
           0.01396253565379059,
           0.36065286693248516,
           -0.07122688671746603,
           0.23166133762028626,
           0.31360318343419413,
           0.2754379787437894,
           0.3035462090113026,
           1,
           0.3333125623154421,
           0.3908740269195431,
           0.40211053776620614,
           0.2193096969628605,
           0.10379680498154323,
           0.11124119502913367,
           0.48269204827330414,
           0.5228814865154386,
           -0.06615979128028415,
           0.6934565243853112
          ],
          [
           0.009211760356587549,
           -0.06062459069356379,
           0.11999886976430937,
           0.06326814139964838,
           0.3242207719993829,
           -0.09633961826825559,
           0.134767816963928,
           0.16483294674910953,
           0.3549307078927568,
           0.2942328784069205,
           0.3333125623154421,
           1,
           0.27807020363722595,
           0.27935847892844207,
           0.29369119011040984,
           0.03787990020728005,
           0.16770147075856795,
           0.3383042642201646,
           0.432868368241092,
           -0.16467355590159904,
           0.6408133545749444
          ],
          [
           0.008392549998355633,
           0.1053776678428196,
           0.1246658005648968,
           -0.016557742951036198,
           0.2797560822359026,
           -0.02257359179493519,
           0.2748228623051831,
           0.42970677476006286,
           0.17620730704239565,
           0.2821064219717299,
           0.3908740269195431,
           0.27807020363722595,
           1,
           0.5330938326942409,
           0.10394395030994516,
           0.22384098246008893,
           -0.013825924238769166,
           0.6296031609781177,
           0.5157090769923923,
           0.06322774611875473,
           0.6883988266592008
          ],
          [
           0.010487356300499686,
           0.12017625118896011,
           0.11741185447194351,
           -0.039740962058925404,
           0.2861105877784818,
           -0.03295889236478296,
           0.2797269325658209,
           0.42726372533329987,
           0.18739833092625272,
           0.274501201960493,
           0.40211053776620614,
           0.27935847892844207,
           0.5330938326942409,
           1,
           0.10751997736796046,
           0.21171599176513312,
           -0.004390017165442285,
           0.6274288843898884,
           0.519866535783504,
           0.06138154801518815,
           0.6925964803697064
          ],
          [
           -0.00012574765070902624,
           -0.1425540803170259,
           0.2948062243608424,
           0.24318747261125104,
           0.6716065492281024,
           0.00224737439721048,
           0.11084224470613079,
           -0.2901893585672705,
           0.24552959531614593,
           0.15508459027477167,
           0.2193096969628605,
           0.29369119011040984,
           0.10394395030994516,
           0.10751997736796046,
           1,
           -0.17673307782053493,
           0.3589132742084543,
           -0.074194667191957,
           0.4503056839159628,
           -0.39671262920985884,
           0.28425129664252785
          ],
          [
           0.011753691221221238,
           0.15652955931114873,
           -0.014876622287889343,
           -0.11137722919362898,
           0.006152481598270628,
           0.016504805732567716,
           0.16514589441868363,
           0.3781081005394814,
           -0.0036358971484736916,
           0.12673537300695792,
           0.10379680498154323,
           0.03787990020728005,
           0.22384098246008893,
           0.21171599176513312,
           -0.17673307782053493,
           1,
           -0.10148008329563749,
           0.3521499677959598,
           0.15782978286591645,
           0.19182533166644541,
           0.18248056728105252
          ],
          [
           0.0052092901512079395,
           -0.0937039559322102,
           0.13311493765441657,
           0.12384440937925496,
           0.3403049714796138,
           -0.004069938951790368,
           0.038602504191444266,
           -0.17813672776869233,
           0.16336680402716774,
           0.096549891556815,
           0.11124119502913367,
           0.16770147075856795,
           -0.013825924238769166,
           -0.004390017165442285,
           0.3589132742084543,
           -0.10148008329563749,
           1,
           -0.0743534388031899,
           0.22269440430760434,
           -0.2628182020893406,
           0.12982437473861086
          ],
          [
           0.014569323728666622,
           0.22017333857626245,
           0.09684793625646866,
           -0.11389023002193653,
           0.24789985628615183,
           0.24739796321411303,
           0.43357600985755634,
           0.9054911208687038,
           0.2965941920005669,
           0.4417800943594705,
           0.48269204827330414,
           0.3383042642201646,
           0.6296031609781177,
           0.6274288843898884,
           -0.074194667191957,
           0.3521499677959598,
           -0.0743534388031899,
           1,
           0.6510648032262024,
           0.19335642223784502,
           0.724706009659031
          ],
          [
           -4.783950839776907e-05,
           0.1024106053953267,
           0.3190723632385728,
           0.06465324942177393,
           0.8258804609332043,
           0.11300826095473841,
           0.45320226616018033,
           0.42821204012007186,
           0.4126187695071348,
           0.5101002901454412,
           0.5228814865154386,
           0.432868368241092,
           0.5157090769923923,
           0.519866535783504,
           0.4503056839159628,
           0.15782978286591645,
           0.22269440430760434,
           0.6510648032262024,
           1,
           -0.19948408356757072,
           0.7461005424196799
          ],
          [
           0.008612095078997463,
           0.15088932817647296,
           -0.15044754495916807,
           -0.16422140157973802,
           -0.35222867011307624,
           0.011941980029002547,
           0.038036885606188044,
           0.3168463429310228,
           -0.17122629194853634,
           -0.08225486893813826,
           -0.06615979128028415,
           -0.16467355590159904,
           0.06322774611875473,
           0.06138154801518815,
           -0.39671262920985884,
           0.19182533166644541,
           -0.2628182020893406,
           0.19335642223784502,
           -0.19948408356757072,
           1,
           -0.08769812711956351
          ],
          [
           0.015489123130442088,
           0.06749314201370113,
           0.20423687308352845,
           0.030199752297851712,
           0.49426261059517107,
           -0.09280980245976407,
           0.3292729730751124,
           0.4644131120967908,
           0.5716062138973134,
           0.6237405374721071,
           0.6934565243853112,
           0.6408133545749444,
           0.6883988266592008,
           0.6925964803697064,
           0.28425129664252785,
           0.18248056728105252,
           0.12982437473861086,
           0.724706009659031,
           0.7461005424196799,
           -0.08769812711956351,
           1
          ]
         ]
        }
       ],
       "layout": {
        "autosize": false,
        "height": 720,
        "margin": {
         "b": 210,
         "l": 210,
         "r": 0,
         "t": 25
        },
        "template": {
         "data": {
          "bar": [
           {
            "error_x": {
             "color": "#2a3f5f"
            },
            "error_y": {
             "color": "#2a3f5f"
            },
            "marker": {
             "line": {
              "color": "#E5ECF6",
              "width": 0.5
             }
            },
            "type": "bar"
           }
          ],
          "barpolar": [
           {
            "marker": {
             "line": {
              "color": "#E5ECF6",
              "width": 0.5
             }
            },
            "type": "barpolar"
           }
          ],
          "carpet": [
           {
            "aaxis": {
             "endlinecolor": "#2a3f5f",
             "gridcolor": "white",
             "linecolor": "white",
             "minorgridcolor": "white",
             "startlinecolor": "#2a3f5f"
            },
            "baxis": {
             "endlinecolor": "#2a3f5f",
             "gridcolor": "white",
             "linecolor": "white",
             "minorgridcolor": "white",
             "startlinecolor": "#2a3f5f"
            },
            "type": "carpet"
           }
          ],
          "choropleth": [
           {
            "colorbar": {
             "outlinewidth": 0,
             "ticks": ""
            },
            "type": "choropleth"
           }
          ],
          "contour": [
           {
            "colorbar": {
             "outlinewidth": 0,
             "ticks": ""
            },
            "colorscale": [
             [
              0,
              "#0d0887"
             ],
             [
              0.1111111111111111,
              "#46039f"
             ],
             [
              0.2222222222222222,
              "#7201a8"
             ],
             [
              0.3333333333333333,
              "#9c179e"
             ],
             [
              0.4444444444444444,
              "#bd3786"
             ],
             [
              0.5555555555555556,
              "#d8576b"
             ],
             [
              0.6666666666666666,
              "#ed7953"
             ],
             [
              0.7777777777777778,
              "#fb9f3a"
             ],
             [
              0.8888888888888888,
              "#fdca26"
             ],
             [
              1,
              "#f0f921"
             ]
            ],
            "type": "contour"
           }
          ],
          "contourcarpet": [
           {
            "colorbar": {
             "outlinewidth": 0,
             "ticks": ""
            },
            "type": "contourcarpet"
           }
          ],
          "heatmap": [
           {
            "colorbar": {
             "outlinewidth": 0,
             "ticks": ""
            },
            "colorscale": [
             [
              0,
              "#0d0887"
             ],
             [
              0.1111111111111111,
              "#46039f"
             ],
             [
              0.2222222222222222,
              "#7201a8"
             ],
             [
              0.3333333333333333,
              "#9c179e"
             ],
             [
              0.4444444444444444,
              "#bd3786"
             ],
             [
              0.5555555555555556,
              "#d8576b"
             ],
             [
              0.6666666666666666,
              "#ed7953"
             ],
             [
              0.7777777777777778,
              "#fb9f3a"
             ],
             [
              0.8888888888888888,
              "#fdca26"
             ],
             [
              1,
              "#f0f921"
             ]
            ],
            "type": "heatmap"
           }
          ],
          "heatmapgl": [
           {
            "colorbar": {
             "outlinewidth": 0,
             "ticks": ""
            },
            "colorscale": [
             [
              0,
              "#0d0887"
             ],
             [
              0.1111111111111111,
              "#46039f"
             ],
             [
              0.2222222222222222,
              "#7201a8"
             ],
             [
              0.3333333333333333,
              "#9c179e"
             ],
             [
              0.4444444444444444,
              "#bd3786"
             ],
             [
              0.5555555555555556,
              "#d8576b"
             ],
             [
              0.6666666666666666,
              "#ed7953"
             ],
             [
              0.7777777777777778,
              "#fb9f3a"
             ],
             [
              0.8888888888888888,
              "#fdca26"
             ],
             [
              1,
              "#f0f921"
             ]
            ],
            "type": "heatmapgl"
           }
          ],
          "histogram": [
           {
            "marker": {
             "colorbar": {
              "outlinewidth": 0,
              "ticks": ""
             }
            },
            "type": "histogram"
           }
          ],
          "histogram2d": [
           {
            "colorbar": {
             "outlinewidth": 0,
             "ticks": ""
            },
            "colorscale": [
             [
              0,
              "#0d0887"
             ],
             [
              0.1111111111111111,
              "#46039f"
             ],
             [
              0.2222222222222222,
              "#7201a8"
             ],
             [
              0.3333333333333333,
              "#9c179e"
             ],
             [
              0.4444444444444444,
              "#bd3786"
             ],
             [
              0.5555555555555556,
              "#d8576b"
             ],
             [
              0.6666666666666666,
              "#ed7953"
             ],
             [
              0.7777777777777778,
              "#fb9f3a"
             ],
             [
              0.8888888888888888,
              "#fdca26"
             ],
             [
              1,
              "#f0f921"
             ]
            ],
            "type": "histogram2d"
           }
          ],
          "histogram2dcontour": [
           {
            "colorbar": {
             "outlinewidth": 0,
             "ticks": ""
            },
            "colorscale": [
             [
              0,
              "#0d0887"
             ],
             [
              0.1111111111111111,
              "#46039f"
             ],
             [
              0.2222222222222222,
              "#7201a8"
             ],
             [
              0.3333333333333333,
              "#9c179e"
             ],
             [
              0.4444444444444444,
              "#bd3786"
             ],
             [
              0.5555555555555556,
              "#d8576b"
             ],
             [
              0.6666666666666666,
              "#ed7953"
             ],
             [
              0.7777777777777778,
              "#fb9f3a"
             ],
             [
              0.8888888888888888,
              "#fdca26"
             ],
             [
              1,
              "#f0f921"
             ]
            ],
            "type": "histogram2dcontour"
           }
          ],
          "mesh3d": [
           {
            "colorbar": {
             "outlinewidth": 0,
             "ticks": ""
            },
            "type": "mesh3d"
           }
          ],
          "parcoords": [
           {
            "line": {
             "colorbar": {
              "outlinewidth": 0,
              "ticks": ""
             }
            },
            "type": "parcoords"
           }
          ],
          "pie": [
           {
            "automargin": true,
            "type": "pie"
           }
          ],
          "scatter": [
           {
            "marker": {
             "colorbar": {
              "outlinewidth": 0,
              "ticks": ""
             }
            },
            "type": "scatter"
           }
          ],
          "scatter3d": [
           {
            "line": {
             "colorbar": {
              "outlinewidth": 0,
              "ticks": ""
             }
            },
            "marker": {
             "colorbar": {
              "outlinewidth": 0,
              "ticks": ""
             }
            },
            "type": "scatter3d"
           }
          ],
          "scattercarpet": [
           {
            "marker": {
             "colorbar": {
              "outlinewidth": 0,
              "ticks": ""
             }
            },
            "type": "scattercarpet"
           }
          ],
          "scattergeo": [
           {
            "marker": {
             "colorbar": {
              "outlinewidth": 0,
              "ticks": ""
             }
            },
            "type": "scattergeo"
           }
          ],
          "scattergl": [
           {
            "marker": {
             "colorbar": {
              "outlinewidth": 0,
              "ticks": ""
             }
            },
            "type": "scattergl"
           }
          ],
          "scattermapbox": [
           {
            "marker": {
             "colorbar": {
              "outlinewidth": 0,
              "ticks": ""
             }
            },
            "type": "scattermapbox"
           }
          ],
          "scatterpolar": [
           {
            "marker": {
             "colorbar": {
              "outlinewidth": 0,
              "ticks": ""
             }
            },
            "type": "scatterpolar"
           }
          ],
          "scatterpolargl": [
           {
            "marker": {
             "colorbar": {
              "outlinewidth": 0,
              "ticks": ""
             }
            },
            "type": "scatterpolargl"
           }
          ],
          "scatterternary": [
           {
            "marker": {
             "colorbar": {
              "outlinewidth": 0,
              "ticks": ""
             }
            },
            "type": "scatterternary"
           }
          ],
          "surface": [
           {
            "colorbar": {
             "outlinewidth": 0,
             "ticks": ""
            },
            "colorscale": [
             [
              0,
              "#0d0887"
             ],
             [
              0.1111111111111111,
              "#46039f"
             ],
             [
              0.2222222222222222,
              "#7201a8"
             ],
             [
              0.3333333333333333,
              "#9c179e"
             ],
             [
              0.4444444444444444,
              "#bd3786"
             ],
             [
              0.5555555555555556,
              "#d8576b"
             ],
             [
              0.6666666666666666,
              "#ed7953"
             ],
             [
              0.7777777777777778,
              "#fb9f3a"
             ],
             [
              0.8888888888888888,
              "#fdca26"
             ],
             [
              1,
              "#f0f921"
             ]
            ],
            "type": "surface"
           }
          ],
          "table": [
           {
            "cells": {
             "fill": {
              "color": "#EBF0F8"
             },
             "line": {
              "color": "white"
             }
            },
            "header": {
             "fill": {
              "color": "#C8D4E3"
             },
             "line": {
              "color": "white"
             }
            },
            "type": "table"
           }
          ]
         },
         "layout": {
          "annotationdefaults": {
           "arrowcolor": "#2a3f5f",
           "arrowhead": 0,
           "arrowwidth": 1
          },
          "coloraxis": {
           "colorbar": {
            "outlinewidth": 0,
            "ticks": ""
           }
          },
          "colorscale": {
           "diverging": [
            [
             0,
             "#8e0152"
            ],
            [
             0.1,
             "#c51b7d"
            ],
            [
             0.2,
             "#de77ae"
            ],
            [
             0.3,
             "#f1b6da"
            ],
            [
             0.4,
             "#fde0ef"
            ],
            [
             0.5,
             "#f7f7f7"
            ],
            [
             0.6,
             "#e6f5d0"
            ],
            [
             0.7,
             "#b8e186"
            ],
            [
             0.8,
             "#7fbc41"
            ],
            [
             0.9,
             "#4d9221"
            ],
            [
             1,
             "#276419"
            ]
           ],
           "sequential": [
            [
             0,
             "#0d0887"
            ],
            [
             0.1111111111111111,
             "#46039f"
            ],
            [
             0.2222222222222222,
             "#7201a8"
            ],
            [
             0.3333333333333333,
             "#9c179e"
            ],
            [
             0.4444444444444444,
             "#bd3786"
            ],
            [
             0.5555555555555556,
             "#d8576b"
            ],
            [
             0.6666666666666666,
             "#ed7953"
            ],
            [
             0.7777777777777778,
             "#fb9f3a"
            ],
            [
             0.8888888888888888,
             "#fdca26"
            ],
            [
             1,
             "#f0f921"
            ]
           ],
           "sequentialminus": [
            [
             0,
             "#0d0887"
            ],
            [
             0.1111111111111111,
             "#46039f"
            ],
            [
             0.2222222222222222,
             "#7201a8"
            ],
            [
             0.3333333333333333,
             "#9c179e"
            ],
            [
             0.4444444444444444,
             "#bd3786"
            ],
            [
             0.5555555555555556,
             "#d8576b"
            ],
            [
             0.6666666666666666,
             "#ed7953"
            ],
            [
             0.7777777777777778,
             "#fb9f3a"
            ],
            [
             0.8888888888888888,
             "#fdca26"
            ],
            [
             1,
             "#f0f921"
            ]
           ]
          },
          "colorway": [
           "#636efa",
           "#EF553B",
           "#00cc96",
           "#ab63fa",
           "#FFA15A",
           "#19d3f3",
           "#FF6692",
           "#B6E880",
           "#FF97FF",
           "#FECB52"
          ],
          "font": {
           "color": "#2a3f5f"
          },
          "geo": {
           "bgcolor": "white",
           "lakecolor": "white",
           "landcolor": "#E5ECF6",
           "showlakes": true,
           "showland": true,
           "subunitcolor": "white"
          },
          "hoverlabel": {
           "align": "left"
          },
          "hovermode": "closest",
          "mapbox": {
           "style": "light"
          },
          "paper_bgcolor": "white",
          "plot_bgcolor": "#E5ECF6",
          "polar": {
           "angularaxis": {
            "gridcolor": "white",
            "linecolor": "white",
            "ticks": ""
           },
           "bgcolor": "#E5ECF6",
           "radialaxis": {
            "gridcolor": "white",
            "linecolor": "white",
            "ticks": ""
           }
          },
          "scene": {
           "xaxis": {
            "backgroundcolor": "#E5ECF6",
            "gridcolor": "white",
            "gridwidth": 2,
            "linecolor": "white",
            "showbackground": true,
            "ticks": "",
            "zerolinecolor": "white"
           },
           "yaxis": {
            "backgroundcolor": "#E5ECF6",
            "gridcolor": "white",
            "gridwidth": 2,
            "linecolor": "white",
            "showbackground": true,
            "ticks": "",
            "zerolinecolor": "white"
           },
           "zaxis": {
            "backgroundcolor": "#E5ECF6",
            "gridcolor": "white",
            "gridwidth": 2,
            "linecolor": "white",
            "showbackground": true,
            "ticks": "",
            "zerolinecolor": "white"
           }
          },
          "shapedefaults": {
           "line": {
            "color": "#2a3f5f"
           }
          },
          "ternary": {
           "aaxis": {
            "gridcolor": "white",
            "linecolor": "white",
            "ticks": ""
           },
           "baxis": {
            "gridcolor": "white",
            "linecolor": "white",
            "ticks": ""
           },
           "bgcolor": "#E5ECF6",
           "caxis": {
            "gridcolor": "white",
            "linecolor": "white",
            "ticks": ""
           }
          },
          "title": {
           "x": 0.05
          },
          "xaxis": {
           "automargin": true,
           "gridcolor": "white",
           "linecolor": "white",
           "ticks": "",
           "title": {
            "standoff": 15
           },
           "zerolinecolor": "white",
           "zerolinewidth": 2
          },
          "yaxis": {
           "automargin": true,
           "gridcolor": "white",
           "linecolor": "white",
           "ticks": "",
           "title": {
            "standoff": 15
           },
           "zerolinecolor": "white",
           "zerolinewidth": 2
          }
         }
        },
        "title": {
         "text": "Correlation Matrix for variables"
        },
        "width": 800,
        "xaxis": {
         "tickfont": {
          "size": 9
         }
        },
        "yaxis": {
         "tickfont": {
          "size": 9
         }
        }
       }
      },
      "text/html": [
       "<div>                            <div id=\"b2426aa5-b0e0-4cf8-8a7a-1230d0e6801b\" class=\"plotly-graph-div\" style=\"height:720px; width:800px;\"></div>            <script type=\"text/javascript\">                require([\"plotly\"], function(Plotly) {                    window.PLOTLYENV=window.PLOTLYENV || {};                                    if (document.getElementById(\"b2426aa5-b0e0-4cf8-8a7a-1230d0e6801b\")) {                    Plotly.newPlot(                        \"b2426aa5-b0e0-4cf8-8a7a-1230d0e6801b\",                        [{\"colorbar\": {\"title\": {\"side\": \"right\", \"text\": \"Pearson Correlation coefficient\"}}, \"colorscale\": [[0.0, \"#440154\"], [0.1111111111111111, \"#482878\"], [0.2222222222222222, \"#3e4989\"], [0.3333333333333333, \"#31688e\"], [0.4444444444444444, \"#26828e\"], [0.5555555555555556, \"#1f9e89\"], [0.6666666666666666, \"#35b779\"], [0.7777777777777778, \"#6ece58\"], [0.8888888888888888, \"#b5de2b\"], [1.0, \"#fde725\"]], \"type\": \"heatmap\", \"x\": [\"gender\", \"SeniorCitizen\", \"Partner\", \"Dependents\", \"tenure\", \"PhoneService\", \"MultipleLines\", \"InternetService\", \"OnlineSecurity\", \"OnlineBackup\", \"DeviceProtection\", \"TechSupport\", \"StreamingTV\", \"StreamingMovies\", \"Contract\", \"PaperlessBilling\", \"PaymentMethod\", \"MonthlyCharges\", \"TotalCharges\", \"Churn\", \"num_svc\"], \"y\": [\"gender\", \"SeniorCitizen\", \"Partner\", \"Dependents\", \"tenure\", \"PhoneService\", \"MultipleLines\", \"InternetService\", \"OnlineSecurity\", \"OnlineBackup\", \"DeviceProtection\", \"TechSupport\", \"StreamingTV\", \"StreamingMovies\", \"Contract\", \"PaperlessBilling\", \"PaymentMethod\", \"MonthlyCharges\", \"TotalCharges\", \"Churn\", \"num_svc\"], \"z\": [[1.0, 0.0018737116382603585, 0.001808079661789092, -0.010516611922734686, -0.005106222619949674, 0.006487672136207867, 0.006738742697707163, 0.010380217544535782, 0.017020796813958704, 0.01377318872900596, 0.0021045826513881854, 0.009211760356587549, 0.008392549998355633, 0.010487356300499686, -0.00012574765070902624, 0.011753691221221238, 0.0052092901512079395, 0.014569323728666622, -4.783950839776907e-05, 0.008612095078997463, 0.015489123130442088], [0.0018737116382603585, 1.0, 0.016478657597413158, -0.21118508849394904, 0.016566877681808985, 0.008576401079278321, 0.14618487000752084, 0.2593901005541285, -0.03865270449719614, 0.06657213514513345, 0.05942849428692483, -0.06062459069356379, 0.1053776678428196, 0.12017625118896011, -0.1425540803170259, 0.15652955931114873, -0.0937039559322102, 0.22017333857626245, 0.1024106053953267, 0.15088932817647296, 0.06749314201370113], [0.001808079661789092, 0.016478657597413158, 1.0, 0.4526762829294439, 0.3796974611682755, 0.01770566322397003, 0.1424104913867197, -0.00013188194892546406, 0.14310622750263163, 0.14149801947226973, 0.15378643563076652, 0.11999886976430937, 0.1246658005648968, 0.11741185447194351, 0.2948062243608424, -0.014876622287889343, 0.13311493765441657, 0.09684793625646866, 0.3190723632385728, -0.15044754495916807, 0.20423687308352845], [-0.010516611922734686, -0.21118508849394904, 0.4526762829294439, 1.0, 0.15971233121691844, -0.0017616785446833952, -0.024990641743746923, -0.17963138138496387, 0.0809716602324878, 0.023671013010513185, 0.01396253565379059, 0.06326814139964838, -0.016557742951036198, -0.039740962058925404, 0.24318747261125104, -0.11137722919362898, 0.12384440937925496, -0.11389023002193653, 0.06465324942177393, -0.16422140157973802, 0.030199752297851712], [-0.005106222619949674, 0.016566877681808985, 0.3796974611682755, 0.15971233121691844, 1.0, 0.008448206732743343, 0.3430318543029688, 0.033230353066658024, 0.32720277316825247, 0.36027698898466876, 0.36065286693248516, 0.3242207719993829, 0.2797560822359026, 0.2861105877784818, 0.6716065492281024, 0.006152481598270628, 0.3403049714796138, 0.24789985628615183, 0.8258804609332043, -0.35222867011307624, 0.49426261059517107], [0.006487672136207867, 0.008576401079278321, 0.01770566322397003, -0.0017616785446833952, 0.008448206732743343, 1.0, -0.020537831331319773, 0.09372028339728178, -0.09289270011220115, -0.052312242947634764, -0.07122688671746603, -0.09633961826825559, -0.02257359179493519, -0.03295889236478296, 0.00224737439721048, 0.016504805732567716, -0.004069938951790368, 0.24739796321411303, 0.11300826095473841, 0.011941980029002547, -0.09280980245976407], [0.006738742697707163, 0.14618487000752084, 0.1424104913867197, -0.024990641743746923, 0.3430318543029688, -0.020537831331319773, 1.0, 0.32971530858376896, 0.13112807326119993, 0.22690987720424485, 0.23166133762028626, 0.134767816963928, 0.2748228623051831, 0.2797269325658209, 0.11084224470613079, 0.16514589441868363, 0.038602504191444266, 0.43357600985755634, 0.45320226616018033, 0.038036885606188044, 0.3292729730751124], [0.010380217544535782, 0.2593901005541285, -0.00013188194892546406, -0.17963138138496387, 0.033230353066658024, 0.09372028339728178, 0.32971530858376896, 1.0, 0.1567987770451119, 0.30742040706280854, 0.31360318343419413, 0.16483294674910953, 0.42970677476006286, 0.42726372533329987, -0.2901893585672705, 0.3781081005394814, -0.17813672776869233, 0.9054911208687038, 0.42821204012007186, 0.3168463429310228, 0.4644131120967908], [0.017020796813958704, -0.03865270449719614, 0.14310622750263163, 0.0809716602324878, 0.32720277316825247, -0.09289270011220115, 0.13112807326119993, 0.1567987770451119, 1.0, 0.28383223353270814, 0.2754379787437894, 0.3549307078927568, 0.17620730704239565, 0.18739833092625272, 0.24552959531614593, -0.0036358971484736916, 0.16336680402716774, 0.2965941920005669, 0.4126187695071348, -0.17122629194853634, 0.5716062138973134], [0.01377318872900596, 0.06657213514513345, 0.14149801947226973, 0.023671013010513185, 0.36027698898466876, -0.052312242947634764, 0.22690987720424485, 0.30742040706280854, 0.28383223353270814, 1.0, 0.3035462090113026, 0.2942328784069205, 0.2821064219717299, 0.274501201960493, 0.15508459027477167, 0.12673537300695792, 0.096549891556815, 0.4417800943594705, 0.5101002901454412, -0.08225486893813826, 0.6237405374721071], [0.0021045826513881854, 0.05942849428692483, 0.15378643563076652, 0.01396253565379059, 0.36065286693248516, -0.07122688671746603, 0.23166133762028626, 0.31360318343419413, 0.2754379787437894, 0.3035462090113026, 1.0, 0.3333125623154421, 0.3908740269195431, 0.40211053776620614, 0.2193096969628605, 0.10379680498154323, 0.11124119502913367, 0.48269204827330414, 0.5228814865154386, -0.06615979128028415, 0.6934565243853112], [0.009211760356587549, -0.06062459069356379, 0.11999886976430937, 0.06326814139964838, 0.3242207719993829, -0.09633961826825559, 0.134767816963928, 0.16483294674910953, 0.3549307078927568, 0.2942328784069205, 0.3333125623154421, 1.0, 0.27807020363722595, 0.27935847892844207, 0.29369119011040984, 0.03787990020728005, 0.16770147075856795, 0.3383042642201646, 0.432868368241092, -0.16467355590159904, 0.6408133545749444], [0.008392549998355633, 0.1053776678428196, 0.1246658005648968, -0.016557742951036198, 0.2797560822359026, -0.02257359179493519, 0.2748228623051831, 0.42970677476006286, 0.17620730704239565, 0.2821064219717299, 0.3908740269195431, 0.27807020363722595, 1.0, 0.5330938326942409, 0.10394395030994516, 0.22384098246008893, -0.013825924238769166, 0.6296031609781177, 0.5157090769923923, 0.06322774611875473, 0.6883988266592008], [0.010487356300499686, 0.12017625118896011, 0.11741185447194351, -0.039740962058925404, 0.2861105877784818, -0.03295889236478296, 0.2797269325658209, 0.42726372533329987, 0.18739833092625272, 0.274501201960493, 0.40211053776620614, 0.27935847892844207, 0.5330938326942409, 1.0, 0.10751997736796046, 0.21171599176513312, -0.004390017165442285, 0.6274288843898884, 0.519866535783504, 0.06138154801518815, 0.6925964803697064], [-0.00012574765070902624, -0.1425540803170259, 0.2948062243608424, 0.24318747261125104, 0.6716065492281024, 0.00224737439721048, 0.11084224470613079, -0.2901893585672705, 0.24552959531614593, 0.15508459027477167, 0.2193096969628605, 0.29369119011040984, 0.10394395030994516, 0.10751997736796046, 1.0, -0.17673307782053493, 0.3589132742084543, -0.074194667191957, 0.4503056839159628, -0.39671262920985884, 0.28425129664252785], [0.011753691221221238, 0.15652955931114873, -0.014876622287889343, -0.11137722919362898, 0.006152481598270628, 0.016504805732567716, 0.16514589441868363, 0.3781081005394814, -0.0036358971484736916, 0.12673537300695792, 0.10379680498154323, 0.03787990020728005, 0.22384098246008893, 0.21171599176513312, -0.17673307782053493, 1.0, -0.10148008329563749, 0.3521499677959598, 0.15782978286591645, 0.19182533166644541, 0.18248056728105252], [0.0052092901512079395, -0.0937039559322102, 0.13311493765441657, 0.12384440937925496, 0.3403049714796138, -0.004069938951790368, 0.038602504191444266, -0.17813672776869233, 0.16336680402716774, 0.096549891556815, 0.11124119502913367, 0.16770147075856795, -0.013825924238769166, -0.004390017165442285, 0.3589132742084543, -0.10148008329563749, 1.0, -0.0743534388031899, 0.22269440430760434, -0.2628182020893406, 0.12982437473861086], [0.014569323728666622, 0.22017333857626245, 0.09684793625646866, -0.11389023002193653, 0.24789985628615183, 0.24739796321411303, 0.43357600985755634, 0.9054911208687038, 0.2965941920005669, 0.4417800943594705, 0.48269204827330414, 0.3383042642201646, 0.6296031609781177, 0.6274288843898884, -0.074194667191957, 0.3521499677959598, -0.0743534388031899, 1.0, 0.6510648032262024, 0.19335642223784502, 0.724706009659031], [-4.783950839776907e-05, 0.1024106053953267, 0.3190723632385728, 0.06465324942177393, 0.8258804609332043, 0.11300826095473841, 0.45320226616018033, 0.42821204012007186, 0.4126187695071348, 0.5101002901454412, 0.5228814865154386, 0.432868368241092, 0.5157090769923923, 0.519866535783504, 0.4503056839159628, 0.15782978286591645, 0.22269440430760434, 0.6510648032262024, 1.0, -0.19948408356757072, 0.7461005424196799], [0.008612095078997463, 0.15088932817647296, -0.15044754495916807, -0.16422140157973802, -0.35222867011307624, 0.011941980029002547, 0.038036885606188044, 0.3168463429310228, -0.17122629194853634, -0.08225486893813826, -0.06615979128028415, -0.16467355590159904, 0.06322774611875473, 0.06138154801518815, -0.39671262920985884, 0.19182533166644541, -0.2628182020893406, 0.19335642223784502, -0.19948408356757072, 1.0, -0.08769812711956351], [0.015489123130442088, 0.06749314201370113, 0.20423687308352845, 0.030199752297851712, 0.49426261059517107, -0.09280980245976407, 0.3292729730751124, 0.4644131120967908, 0.5716062138973134, 0.6237405374721071, 0.6934565243853112, 0.6408133545749444, 0.6883988266592008, 0.6925964803697064, 0.28425129664252785, 0.18248056728105252, 0.12982437473861086, 0.724706009659031, 0.7461005424196799, -0.08769812711956351, 1.0]]}],                        {\"autosize\": false, \"height\": 720, \"margin\": {\"b\": 210, \"l\": 210, \"r\": 0, \"t\": 25}, \"template\": {\"data\": {\"bar\": [{\"error_x\": {\"color\": \"#2a3f5f\"}, \"error_y\": {\"color\": \"#2a3f5f\"}, \"marker\": {\"line\": {\"color\": \"#E5ECF6\", \"width\": 0.5}}, \"type\": \"bar\"}], \"barpolar\": [{\"marker\": {\"line\": {\"color\": \"#E5ECF6\", \"width\": 0.5}}, \"type\": \"barpolar\"}], \"carpet\": [{\"aaxis\": {\"endlinecolor\": \"#2a3f5f\", \"gridcolor\": \"white\", \"linecolor\": \"white\", \"minorgridcolor\": \"white\", \"startlinecolor\": \"#2a3f5f\"}, \"baxis\": {\"endlinecolor\": \"#2a3f5f\", \"gridcolor\": \"white\", \"linecolor\": \"white\", \"minorgridcolor\": \"white\", \"startlinecolor\": \"#2a3f5f\"}, \"type\": \"carpet\"}], \"choropleth\": [{\"colorbar\": {\"outlinewidth\": 0, \"ticks\": \"\"}, \"type\": \"choropleth\"}], \"contour\": [{\"colorbar\": {\"outlinewidth\": 0, \"ticks\": \"\"}, \"colorscale\": [[0.0, \"#0d0887\"], [0.1111111111111111, \"#46039f\"], [0.2222222222222222, \"#7201a8\"], [0.3333333333333333, \"#9c179e\"], [0.4444444444444444, \"#bd3786\"], [0.5555555555555556, \"#d8576b\"], [0.6666666666666666, \"#ed7953\"], [0.7777777777777778, \"#fb9f3a\"], [0.8888888888888888, \"#fdca26\"], [1.0, \"#f0f921\"]], \"type\": \"contour\"}], \"contourcarpet\": [{\"colorbar\": {\"outlinewidth\": 0, \"ticks\": \"\"}, \"type\": \"contourcarpet\"}], \"heatmap\": [{\"colorbar\": {\"outlinewidth\": 0, \"ticks\": \"\"}, \"colorscale\": [[0.0, \"#0d0887\"], [0.1111111111111111, \"#46039f\"], [0.2222222222222222, \"#7201a8\"], [0.3333333333333333, \"#9c179e\"], [0.4444444444444444, \"#bd3786\"], [0.5555555555555556, \"#d8576b\"], [0.6666666666666666, \"#ed7953\"], [0.7777777777777778, \"#fb9f3a\"], [0.8888888888888888, \"#fdca26\"], [1.0, \"#f0f921\"]], \"type\": \"heatmap\"}], \"heatmapgl\": [{\"colorbar\": {\"outlinewidth\": 0, \"ticks\": \"\"}, \"colorscale\": [[0.0, \"#0d0887\"], [0.1111111111111111, \"#46039f\"], [0.2222222222222222, \"#7201a8\"], [0.3333333333333333, \"#9c179e\"], [0.4444444444444444, \"#bd3786\"], [0.5555555555555556, \"#d8576b\"], [0.6666666666666666, \"#ed7953\"], [0.7777777777777778, \"#fb9f3a\"], [0.8888888888888888, \"#fdca26\"], [1.0, \"#f0f921\"]], \"type\": \"heatmapgl\"}], \"histogram\": [{\"marker\": {\"colorbar\": {\"outlinewidth\": 0, \"ticks\": \"\"}}, \"type\": \"histogram\"}], \"histogram2d\": [{\"colorbar\": {\"outlinewidth\": 0, \"ticks\": \"\"}, \"colorscale\": [[0.0, \"#0d0887\"], [0.1111111111111111, \"#46039f\"], [0.2222222222222222, \"#7201a8\"], [0.3333333333333333, \"#9c179e\"], [0.4444444444444444, \"#bd3786\"], [0.5555555555555556, \"#d8576b\"], [0.6666666666666666, \"#ed7953\"], [0.7777777777777778, \"#fb9f3a\"], [0.8888888888888888, \"#fdca26\"], [1.0, \"#f0f921\"]], \"type\": \"histogram2d\"}], \"histogram2dcontour\": [{\"colorbar\": {\"outlinewidth\": 0, \"ticks\": \"\"}, \"colorscale\": [[0.0, \"#0d0887\"], [0.1111111111111111, \"#46039f\"], [0.2222222222222222, \"#7201a8\"], [0.3333333333333333, \"#9c179e\"], [0.4444444444444444, \"#bd3786\"], [0.5555555555555556, \"#d8576b\"], [0.6666666666666666, \"#ed7953\"], [0.7777777777777778, \"#fb9f3a\"], [0.8888888888888888, \"#fdca26\"], [1.0, \"#f0f921\"]], \"type\": \"histogram2dcontour\"}], \"mesh3d\": [{\"colorbar\": {\"outlinewidth\": 0, \"ticks\": \"\"}, \"type\": \"mesh3d\"}], \"parcoords\": [{\"line\": {\"colorbar\": {\"outlinewidth\": 0, \"ticks\": \"\"}}, \"type\": \"parcoords\"}], \"pie\": [{\"automargin\": true, \"type\": \"pie\"}], \"scatter\": [{\"marker\": {\"colorbar\": {\"outlinewidth\": 0, \"ticks\": \"\"}}, \"type\": \"scatter\"}], \"scatter3d\": [{\"line\": {\"colorbar\": {\"outlinewidth\": 0, \"ticks\": \"\"}}, \"marker\": {\"colorbar\": {\"outlinewidth\": 0, \"ticks\": \"\"}}, \"type\": \"scatter3d\"}], \"scattercarpet\": [{\"marker\": {\"colorbar\": {\"outlinewidth\": 0, \"ticks\": \"\"}}, \"type\": \"scattercarpet\"}], \"scattergeo\": [{\"marker\": {\"colorbar\": {\"outlinewidth\": 0, \"ticks\": \"\"}}, \"type\": \"scattergeo\"}], \"scattergl\": [{\"marker\": {\"colorbar\": {\"outlinewidth\": 0, \"ticks\": \"\"}}, \"type\": \"scattergl\"}], \"scattermapbox\": [{\"marker\": {\"colorbar\": {\"outlinewidth\": 0, \"ticks\": \"\"}}, \"type\": \"scattermapbox\"}], \"scatterpolar\": [{\"marker\": {\"colorbar\": {\"outlinewidth\": 0, \"ticks\": \"\"}}, \"type\": \"scatterpolar\"}], \"scatterpolargl\": [{\"marker\": {\"colorbar\": {\"outlinewidth\": 0, \"ticks\": \"\"}}, \"type\": \"scatterpolargl\"}], \"scatterternary\": [{\"marker\": {\"colorbar\": {\"outlinewidth\": 0, \"ticks\": \"\"}}, \"type\": \"scatterternary\"}], \"surface\": [{\"colorbar\": {\"outlinewidth\": 0, \"ticks\": \"\"}, \"colorscale\": [[0.0, \"#0d0887\"], [0.1111111111111111, \"#46039f\"], [0.2222222222222222, \"#7201a8\"], [0.3333333333333333, \"#9c179e\"], [0.4444444444444444, \"#bd3786\"], [0.5555555555555556, \"#d8576b\"], [0.6666666666666666, \"#ed7953\"], [0.7777777777777778, \"#fb9f3a\"], [0.8888888888888888, \"#fdca26\"], [1.0, \"#f0f921\"]], \"type\": \"surface\"}], \"table\": [{\"cells\": {\"fill\": {\"color\": \"#EBF0F8\"}, \"line\": {\"color\": \"white\"}}, \"header\": {\"fill\": {\"color\": \"#C8D4E3\"}, \"line\": {\"color\": \"white\"}}, \"type\": \"table\"}]}, \"layout\": {\"annotationdefaults\": {\"arrowcolor\": \"#2a3f5f\", \"arrowhead\": 0, \"arrowwidth\": 1}, \"coloraxis\": {\"colorbar\": {\"outlinewidth\": 0, \"ticks\": \"\"}}, \"colorscale\": {\"diverging\": [[0, \"#8e0152\"], [0.1, \"#c51b7d\"], [0.2, \"#de77ae\"], [0.3, \"#f1b6da\"], [0.4, \"#fde0ef\"], [0.5, \"#f7f7f7\"], [0.6, \"#e6f5d0\"], [0.7, \"#b8e186\"], [0.8, \"#7fbc41\"], [0.9, \"#4d9221\"], [1, \"#276419\"]], \"sequential\": [[0.0, \"#0d0887\"], [0.1111111111111111, \"#46039f\"], [0.2222222222222222, \"#7201a8\"], [0.3333333333333333, \"#9c179e\"], [0.4444444444444444, \"#bd3786\"], [0.5555555555555556, \"#d8576b\"], [0.6666666666666666, \"#ed7953\"], [0.7777777777777778, \"#fb9f3a\"], [0.8888888888888888, \"#fdca26\"], [1.0, \"#f0f921\"]], \"sequentialminus\": [[0.0, \"#0d0887\"], [0.1111111111111111, \"#46039f\"], [0.2222222222222222, \"#7201a8\"], [0.3333333333333333, \"#9c179e\"], [0.4444444444444444, \"#bd3786\"], [0.5555555555555556, \"#d8576b\"], [0.6666666666666666, \"#ed7953\"], [0.7777777777777778, \"#fb9f3a\"], [0.8888888888888888, \"#fdca26\"], [1.0, \"#f0f921\"]]}, \"colorway\": [\"#636efa\", \"#EF553B\", \"#00cc96\", \"#ab63fa\", \"#FFA15A\", \"#19d3f3\", \"#FF6692\", \"#B6E880\", \"#FF97FF\", \"#FECB52\"], \"font\": {\"color\": \"#2a3f5f\"}, \"geo\": {\"bgcolor\": \"white\", \"lakecolor\": \"white\", \"landcolor\": \"#E5ECF6\", \"showlakes\": true, \"showland\": true, \"subunitcolor\": \"white\"}, \"hoverlabel\": {\"align\": \"left\"}, \"hovermode\": \"closest\", \"mapbox\": {\"style\": \"light\"}, \"paper_bgcolor\": \"white\", \"plot_bgcolor\": \"#E5ECF6\", \"polar\": {\"angularaxis\": {\"gridcolor\": \"white\", \"linecolor\": \"white\", \"ticks\": \"\"}, \"bgcolor\": \"#E5ECF6\", \"radialaxis\": {\"gridcolor\": \"white\", \"linecolor\": \"white\", \"ticks\": \"\"}}, \"scene\": {\"xaxis\": {\"backgroundcolor\": \"#E5ECF6\", \"gridcolor\": \"white\", \"gridwidth\": 2, \"linecolor\": \"white\", \"showbackground\": true, \"ticks\": \"\", \"zerolinecolor\": \"white\"}, \"yaxis\": {\"backgroundcolor\": \"#E5ECF6\", \"gridcolor\": \"white\", \"gridwidth\": 2, \"linecolor\": \"white\", \"showbackground\": true, \"ticks\": \"\", \"zerolinecolor\": \"white\"}, \"zaxis\": {\"backgroundcolor\": \"#E5ECF6\", \"gridcolor\": \"white\", \"gridwidth\": 2, \"linecolor\": \"white\", \"showbackground\": true, \"ticks\": \"\", \"zerolinecolor\": \"white\"}}, \"shapedefaults\": {\"line\": {\"color\": \"#2a3f5f\"}}, \"ternary\": {\"aaxis\": {\"gridcolor\": \"white\", \"linecolor\": \"white\", \"ticks\": \"\"}, \"baxis\": {\"gridcolor\": \"white\", \"linecolor\": \"white\", \"ticks\": \"\"}, \"bgcolor\": \"#E5ECF6\", \"caxis\": {\"gridcolor\": \"white\", \"linecolor\": \"white\", \"ticks\": \"\"}}, \"title\": {\"x\": 0.05}, \"xaxis\": {\"automargin\": true, \"gridcolor\": \"white\", \"linecolor\": \"white\", \"ticks\": \"\", \"title\": {\"standoff\": 15}, \"zerolinecolor\": \"white\", \"zerolinewidth\": 2}, \"yaxis\": {\"automargin\": true, \"gridcolor\": \"white\", \"linecolor\": \"white\", \"ticks\": \"\", \"title\": {\"standoff\": 15}, \"zerolinecolor\": \"white\", \"zerolinewidth\": 2}}}, \"title\": {\"text\": \"Correlation Matrix for variables\"}, \"width\": 800, \"xaxis\": {\"tickfont\": {\"size\": 9}}, \"yaxis\": {\"tickfont\": {\"size\": 9}}},                        {\"responsive\": true}                    ).then(function(){\n",
       "                            \n",
       "var gd = document.getElementById('b2426aa5-b0e0-4cf8-8a7a-1230d0e6801b');\n",
       "var x = new MutationObserver(function (mutations, observer) {{\n",
       "        var display = window.getComputedStyle(gd).display;\n",
       "        if (!display || display === 'none') {{\n",
       "            console.log([gd, 'removed!']);\n",
       "            Plotly.purge(gd);\n",
       "            observer.disconnect();\n",
       "        }}\n",
       "}});\n",
       "\n",
       "// Listen for the removal of the full notebook cells\n",
       "var notebookContainer = gd.closest('#notebook-container');\n",
       "if (notebookContainer) {{\n",
       "    x.observe(notebookContainer, {childList: true});\n",
       "}}\n",
       "\n",
       "// Listen for the clearing of the current output cell\n",
       "var outputEl = gd.closest('.output');\n",
       "if (outputEl) {{\n",
       "    x.observe(outputEl, {childList: true});\n",
       "}}\n",
       "\n",
       "                        })                };                });            </script>        </div>"
      ]
     },
     "metadata": {},
     "output_type": "display_data"
    }
   ],
   "source": [
    "import plotly.offline as py\n",
    "py.init_notebook_mode(connected=True)\n",
    "import plotly.graph_objs as go\n",
    "\n",
    "correlation = datanum.corr()\n",
    "#tick labels\n",
    "matrix_cols = correlation.columns.tolist()\n",
    "#convert to array\n",
    "corr_array  = np.array(correlation)\n",
    "\n",
    "#Plotting\n",
    "trace = go.Heatmap(z = corr_array,\n",
    "                   x = matrix_cols,\n",
    "                   y = matrix_cols,\n",
    "                   colorscale = \"Viridis\",\n",
    "                   colorbar   = dict(title = \"Pearson Correlation coefficient\",\n",
    "                                     titleside = \"right\"\n",
    "                                    ) ,\n",
    "                  )\n",
    "\n",
    "layout = go.Layout(dict(title = \"Correlation Matrix for variables\",\n",
    "                        autosize = False,\n",
    "                        height  = 720,\n",
    "                        width   = 800,\n",
    "                        margin  = dict(r = 0 ,l = 210,\n",
    "                                       t = 25,b = 210,\n",
    "                                      ),\n",
    "                        yaxis   = dict(tickfont = dict(size = 9)),\n",
    "                        xaxis   = dict(tickfont = dict(size = 9))\n",
    "                       )\n",
    "                  )\n",
    "\n",
    "data = [trace]\n",
    "fig = go.Figure(data=data,layout=layout)\n",
    "py.iplot(fig)"
   ]
  },
  {
   "cell_type": "markdown",
   "metadata": {},
   "source": [
    "#### Looking at the correlation matrix we can see that tenure, contract, and payment method have a high correlation with 'Churn'."
   ]
  },
  {
   "cell_type": "markdown",
   "metadata": {},
   "source": [
    "### Building Models"
   ]
  },
  {
   "cell_type": "markdown",
   "metadata": {},
   "source": [
    "#### Logistic Regression"
   ]
  },
  {
   "cell_type": "code",
   "execution_count": 242,
   "metadata": {},
   "outputs": [],
   "source": [
    "from sklearn.model_selection import train_test_split\n",
    "from sklearn.linear_model import LogisticRegression\n",
    "from sklearn.metrics import confusion_matrix,accuracy_score,classification_report\n",
    "from sklearn import metrics"
   ]
  },
  {
   "cell_type": "code",
   "execution_count": 239,
   "metadata": {},
   "outputs": [],
   "source": [
    "feature_cols = ['tenure', 'Contract', 'PaymentMethod', 'MonthlyCharges', 'InternetService', 'Dependents', 'SeniorCitizen']\n",
    "X = datanum[feature_cols]\n",
    "y = datanum['Churn']"
   ]
  },
  {
   "cell_type": "code",
   "execution_count": 240,
   "metadata": {},
   "outputs": [],
   "source": [
    "X_train,X_test,y_train,y_test=train_test_split(X,y,test_size=0.25,random_state=0)"
   ]
  },
  {
   "cell_type": "code",
   "execution_count": 241,
   "metadata": {},
   "outputs": [],
   "source": [
    "logreg = LogisticRegression()\n",
    "\n",
    "logreg.fit(X_train,y_train)\n",
    "\n",
    "y_pred=logreg.predict(X_test)"
   ]
  },
  {
   "cell_type": "markdown",
   "metadata": {},
   "source": [
    "##### Creating the confusion matrix"
   ]
  },
  {
   "cell_type": "code",
   "execution_count": 243,
   "metadata": {},
   "outputs": [
    {
     "data": {
      "text/plain": [
       "array([[1162,  136],\n",
       "       [ 242,  221]], dtype=int64)"
      ]
     },
     "execution_count": 243,
     "metadata": {},
     "output_type": "execute_result"
    }
   ],
   "source": [
    "cnf_matrix = metrics.confusion_matrix(y_test, y_pred)\n",
    "cnf_matrix"
   ]
  },
  {
   "cell_type": "code",
   "execution_count": 244,
   "metadata": {},
   "outputs": [
    {
     "data": {
      "text/plain": [
       "Text(0.5, 352.48, 'Predicted label')"
      ]
     },
     "execution_count": 244,
     "metadata": {},
     "output_type": "execute_result"
    },
    {
     "data": {
      "image/png": "[encoded data removed]",
      "text/plain": [
       "<Figure size 576x396 with 2 Axes>"
      ]
     },
     "metadata": {},
     "output_type": "display_data"
    }
   ],
   "source": [
    "class_names=[0,1] # name  of classes\n",
    "fig, ax = plt.subplots()\n",
    "tick_marks = np.arange(len(class_names))\n",
    "plt.xticks(tick_marks, class_names)\n",
    "plt.yticks(tick_marks, class_names)\n",
    "# create heatmap\n",
    "sns.heatmap(pd.DataFrame(cnf_matrix), annot=True, cmap=\"YlGnBu\" ,fmt='g')\n",
    "ax.xaxis.set_label_position(\"top\")\n",
    "plt.tight_layout()\n",
    "plt.title('Confusion matrix', y=1.1)\n",
    "plt.ylabel('Actual label')\n",
    "plt.xlabel('Predicted label')"
   ]
  },
  {
   "cell_type": "code",
   "execution_count": 245,
   "metadata": {},
   "outputs": [
    {
     "name": "stdout",
     "output_type": "stream",
     "text": [
      "Accuracy: 0.7853492333901193\n",
      "Precision: 0.6190476190476191\n",
      "Recall: 0.4773218142548596\n"
     ]
    }
   ],
   "source": [
    "print(\"Accuracy:\",metrics.accuracy_score(y_test, y_pred))\n",
    "print(\"Precision:\",metrics.precision_score(y_test, y_pred))\n",
    "print(\"Recall:\",metrics.recall_score(y_test, y_pred))"
   ]
  },
  {
   "cell_type": "code",
   "execution_count": 246,
   "metadata": {},
   "outputs": [
    {
     "data": {
      "image/png": "[encoded data removed]",
      "text/plain": [
       "<Figure size 576x396 with 1 Axes>"
      ]
     },
     "metadata": {},
     "output_type": "display_data"
    }
   ],
   "source": [
    "y_pred_proba = logreg.predict_proba(X_test)[::,1]\n",
    "fpr, tpr, _ = metrics.roc_curve(y_test,  y_pred_proba)\n",
    "auc = metrics.roc_auc_score(y_test, y_pred_proba)\n",
    "plt.plot(fpr,tpr,label=\"data 1, auc=\"+str(auc))\n",
    "plt.legend(loc=4)\n",
    "plt.show()"
   ]
  },
  {
   "cell_type": "markdown",
   "metadata": {},
   "source": [
    "#### KNN Classifier"
   ]
  },
  {
   "cell_type": "markdown",
   "metadata": {},
   "source": [
    "##### K=3"
   ]
  },
  {
   "cell_type": "code",
   "execution_count": 251,
   "metadata": {},
   "outputs": [],
   "source": [
    "from sklearn.neighbors import KNeighborsClassifier\n",
    "\n",
    "#Create KNN Classifier\n",
    "knn = KNeighborsClassifier(n_neighbors=3)\n",
    "\n",
    "#Train the model using the training sets\n",
    "knn.fit(X_train, y_train)\n",
    "\n",
    "#Predict the response for test dataset\n",
    "y_pred = knn.predict(X_test)"
   ]
  },
  {
   "cell_type": "code",
   "execution_count": 253,
   "metadata": {},
   "outputs": [
    {
     "name": "stdout",
     "output_type": "stream",
     "text": [
      "Accuracy: 0.7541169789892107\n"
     ]
    }
   ],
   "source": [
    "from sklearn import metrics\n",
    "\n",
    "# Model Accuracy, how often is the classifier correct?\n",
    "print(\"Accuracy:\",metrics.accuracy_score(y_test, y_pred))"
   ]
  },
  {
   "cell_type": "markdown",
   "metadata": {},
   "source": [
    "##### K=5"
   ]
  },
  {
   "cell_type": "code",
   "execution_count": 254,
   "metadata": {},
   "outputs": [
    {
     "name": "stdout",
     "output_type": "stream",
     "text": [
      "Accuracy: 0.7671777399204998\n"
     ]
    }
   ],
   "source": [
    "knn = KNeighborsClassifier(n_neighbors=5)\n",
    "knn.fit(X_train, y_train)\n",
    "y_pred = knn.predict(X_test)\n",
    "print(\"Accuracy:\",metrics.accuracy_score(y_test, y_pred))"
   ]
  },
  {
   "cell_type": "markdown",
   "metadata": {},
   "source": [
    "##### K=7"
   ]
  },
  {
   "cell_type": "code",
   "execution_count": 255,
   "metadata": {},
   "outputs": [
    {
     "name": "stdout",
     "output_type": "stream",
     "text": [
      "Accuracy: 0.7671777399204998\n"
     ]
    }
   ],
   "source": [
    "knn = KNeighborsClassifier(n_neighbors=7)\n",
    "knn.fit(X_train, y_train)\n",
    "y_pred = knn.predict(X_test)\n",
    "print(\"Accuracy:\",metrics.accuracy_score(y_test, y_pred))"
   ]
  },
  {
   "cell_type": "markdown",
   "metadata": {},
   "source": [
    "#### K=5 seems to lead best results"
   ]
  },
  {
   "cell_type": "markdown",
   "metadata": {},
   "source": [
    "#### Random Forest Classifier"
   ]
  },
  {
   "cell_type": "code",
   "execution_count": 256,
   "metadata": {},
   "outputs": [
    {
     "name": "stdout",
     "output_type": "stream",
     "text": [
      "Accuracy: 0.7660420215786485\n"
     ]
    }
   ],
   "source": [
    "from sklearn.ensemble import RandomForestClassifier\n",
    "\n",
    "#Create a Gaussian Classifier\n",
    "clf=RandomForestClassifier(n_estimators=100)\n",
    "\n",
    "#Train the model using the training sets y_pred=clf.predict(X_test)\n",
    "clf.fit(X_train,y_train)\n",
    "\n",
    "y_pred=clf.predict(X_test)\n",
    "\n",
    "print(\"Accuracy:\",metrics.accuracy_score(y_test, y_pred))"
   ]
  },
  {
   "cell_type": "code",
   "execution_count": 257,
   "metadata": {},
   "outputs": [
    {
     "name": "stdout",
     "output_type": "stream",
     "text": [
      "Accuracy: 0.7632027257240205\n"
     ]
    }
   ],
   "source": [
    "clf=RandomForestClassifier(n_estimators=150)\n",
    "clf.fit(X_train,y_train)\n",
    "y_pred=clf.predict(X_test)\n",
    "print(\"Accuracy:\",metrics.accuracy_score(y_test, y_pred))"
   ]
  },
  {
   "cell_type": "code",
   "execution_count": 259,
   "metadata": {},
   "outputs": [
    {
     "name": "stdout",
     "output_type": "stream",
     "text": [
      "Accuracy: 0.7597955706984668\n"
     ]
    }
   ],
   "source": [
    "clf=RandomForestClassifier(n_estimators=50)\n",
    "clf.fit(X_train,y_train)\n",
    "y_pred=clf.predict(X_test)\n",
    "print(\"Accuracy:\",metrics.accuracy_score(y_test, y_pred))"
   ]
  },
  {
   "cell_type": "markdown",
   "metadata": {},
   "source": [
    "#### Default estimator (100) seems to yield best results"
   ]
  },
  {
   "cell_type": "code",
   "execution_count": null,
   "metadata": {},
   "outputs": [],
   "source": []
  }
 ],
 "metadata": {
  "kernelspec": {
   "display_name": "Python 3",
   "language": "python",
   "name": "python3"
  },
  "language_info": {
   "codemirror_mode": {
    "name": "ipython",
    "version": 3
   },
   "file_extension": ".py",
   "mimetype": "text/x-python",
   "name": "python",
   "nbconvert_exporter": "python",
   "pygments_lexer": "ipython3",
   "version": "3.8.2"
  }
 },
 "nbformat": 4,
 "nbformat_minor": 4
}
